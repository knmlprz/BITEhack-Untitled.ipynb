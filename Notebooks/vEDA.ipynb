{
 "cells": [
  {
   "cell_type": "code",
   "execution_count": 542,
   "metadata": {},
   "outputs": [],
   "source": [
    "import numpy as np\n",
    "import pandas as pd\n",
    "import ruptures as rpt\n",
    "import matplotlib.pyplot as plt\n",
    "import seaborn as sns\n",
    "from tqdm.notebook import tqdm\n",
    "import plotly.express as px"
   ]
  },
  {
   "cell_type": "code",
   "execution_count": 5,
   "metadata": {},
   "outputs": [],
   "source": [
    "# df = pd.read_csv(\"../Datasets/household_data_1min_singleindex.csv\", parse_dates=[\"utc_timestamp\", \"cet_cest_timestamp\"])\n",
    "# df.head()\n",
    "# df.describe()\n",
    "# df.info()\n",
    "# df.drop(df.columns[df.columns.str.contains(\"industrial\")], axis=1, inplace=True)\n",
    "# df.to_pickle(\"../Datasets/no_industrial_df.pickle\")"
   ]
  },
  {
   "cell_type": "code",
   "execution_count": 6,
   "metadata": {},
   "outputs": [
    {
     "data": {
      "text/html": [
       "<div>\n",
       "<style scoped>\n",
       "    .dataframe tbody tr th:only-of-type {\n",
       "        vertical-align: middle;\n",
       "    }\n",
       "\n",
       "    .dataframe tbody tr th {\n",
       "        vertical-align: top;\n",
       "    }\n",
       "\n",
       "    .dataframe thead th {\n",
       "        text-align: right;\n",
       "    }\n",
       "</style>\n",
       "<table border=\"1\" class=\"dataframe\">\n",
       "  <thead>\n",
       "    <tr style=\"text-align: right;\">\n",
       "      <th></th>\n",
       "      <th>utc_timestamp</th>\n",
       "      <th>cet_cest_timestamp</th>\n",
       "      <th>DE_KN_public1_grid_import</th>\n",
       "      <th>DE_KN_public2_grid_import</th>\n",
       "      <th>DE_KN_residential1_dishwasher</th>\n",
       "      <th>DE_KN_residential1_freezer</th>\n",
       "      <th>DE_KN_residential1_grid_import</th>\n",
       "      <th>DE_KN_residential1_heat_pump</th>\n",
       "      <th>DE_KN_residential1_pv</th>\n",
       "      <th>DE_KN_residential1_washing_machine</th>\n",
       "      <th>...</th>\n",
       "      <th>DE_KN_residential5_refrigerator</th>\n",
       "      <th>DE_KN_residential5_washing_machine</th>\n",
       "      <th>DE_KN_residential6_circulation_pump</th>\n",
       "      <th>DE_KN_residential6_dishwasher</th>\n",
       "      <th>DE_KN_residential6_freezer</th>\n",
       "      <th>DE_KN_residential6_grid_export</th>\n",
       "      <th>DE_KN_residential6_grid_import</th>\n",
       "      <th>DE_KN_residential6_pv</th>\n",
       "      <th>DE_KN_residential6_washing_machine</th>\n",
       "      <th>interpolated</th>\n",
       "    </tr>\n",
       "  </thead>\n",
       "  <tbody>\n",
       "    <tr>\n",
       "      <th>0</th>\n",
       "      <td>2014-12-11 17:59:00+00:00</td>\n",
       "      <td>2014-12-11 18:59:00+01:00</td>\n",
       "      <td>NaN</td>\n",
       "      <td>NaN</td>\n",
       "      <td>NaN</td>\n",
       "      <td>NaN</td>\n",
       "      <td>NaN</td>\n",
       "      <td>NaN</td>\n",
       "      <td>NaN</td>\n",
       "      <td>NaN</td>\n",
       "      <td>...</td>\n",
       "      <td>NaN</td>\n",
       "      <td>NaN</td>\n",
       "      <td>NaN</td>\n",
       "      <td>NaN</td>\n",
       "      <td>NaN</td>\n",
       "      <td>NaN</td>\n",
       "      <td>NaN</td>\n",
       "      <td>NaN</td>\n",
       "      <td>NaN</td>\n",
       "      <td>NaN</td>\n",
       "    </tr>\n",
       "    <tr>\n",
       "      <th>1</th>\n",
       "      <td>2014-12-11 18:00:00+00:00</td>\n",
       "      <td>2014-12-11 19:00:00+01:00</td>\n",
       "      <td>NaN</td>\n",
       "      <td>NaN</td>\n",
       "      <td>NaN</td>\n",
       "      <td>NaN</td>\n",
       "      <td>NaN</td>\n",
       "      <td>NaN</td>\n",
       "      <td>NaN</td>\n",
       "      <td>NaN</td>\n",
       "      <td>...</td>\n",
       "      <td>NaN</td>\n",
       "      <td>NaN</td>\n",
       "      <td>NaN</td>\n",
       "      <td>NaN</td>\n",
       "      <td>NaN</td>\n",
       "      <td>NaN</td>\n",
       "      <td>NaN</td>\n",
       "      <td>NaN</td>\n",
       "      <td>NaN</td>\n",
       "      <td>NaN</td>\n",
       "    </tr>\n",
       "    <tr>\n",
       "      <th>2</th>\n",
       "      <td>2014-12-11 18:01:00+00:00</td>\n",
       "      <td>2014-12-11 19:01:00+01:00</td>\n",
       "      <td>NaN</td>\n",
       "      <td>NaN</td>\n",
       "      <td>NaN</td>\n",
       "      <td>NaN</td>\n",
       "      <td>NaN</td>\n",
       "      <td>NaN</td>\n",
       "      <td>NaN</td>\n",
       "      <td>NaN</td>\n",
       "      <td>...</td>\n",
       "      <td>NaN</td>\n",
       "      <td>NaN</td>\n",
       "      <td>NaN</td>\n",
       "      <td>NaN</td>\n",
       "      <td>NaN</td>\n",
       "      <td>NaN</td>\n",
       "      <td>NaN</td>\n",
       "      <td>NaN</td>\n",
       "      <td>NaN</td>\n",
       "      <td>NaN</td>\n",
       "    </tr>\n",
       "    <tr>\n",
       "      <th>3</th>\n",
       "      <td>2014-12-11 18:02:00+00:00</td>\n",
       "      <td>2014-12-11 19:02:00+01:00</td>\n",
       "      <td>NaN</td>\n",
       "      <td>NaN</td>\n",
       "      <td>NaN</td>\n",
       "      <td>NaN</td>\n",
       "      <td>NaN</td>\n",
       "      <td>NaN</td>\n",
       "      <td>NaN</td>\n",
       "      <td>NaN</td>\n",
       "      <td>...</td>\n",
       "      <td>NaN</td>\n",
       "      <td>NaN</td>\n",
       "      <td>NaN</td>\n",
       "      <td>NaN</td>\n",
       "      <td>NaN</td>\n",
       "      <td>NaN</td>\n",
       "      <td>NaN</td>\n",
       "      <td>NaN</td>\n",
       "      <td>NaN</td>\n",
       "      <td>NaN</td>\n",
       "    </tr>\n",
       "    <tr>\n",
       "      <th>4</th>\n",
       "      <td>2014-12-11 18:03:00+00:00</td>\n",
       "      <td>2014-12-11 19:03:00+01:00</td>\n",
       "      <td>NaN</td>\n",
       "      <td>NaN</td>\n",
       "      <td>NaN</td>\n",
       "      <td>NaN</td>\n",
       "      <td>NaN</td>\n",
       "      <td>NaN</td>\n",
       "      <td>NaN</td>\n",
       "      <td>NaN</td>\n",
       "      <td>...</td>\n",
       "      <td>NaN</td>\n",
       "      <td>NaN</td>\n",
       "      <td>NaN</td>\n",
       "      <td>NaN</td>\n",
       "      <td>NaN</td>\n",
       "      <td>NaN</td>\n",
       "      <td>NaN</td>\n",
       "      <td>NaN</td>\n",
       "      <td>NaN</td>\n",
       "      <td>NaN</td>\n",
       "    </tr>\n",
       "  </tbody>\n",
       "</table>\n",
       "<p>5 rows × 44 columns</p>\n",
       "</div>"
      ],
      "text/plain": [
       "              utc_timestamp         cet_cest_timestamp  \\\n",
       "0 2014-12-11 17:59:00+00:00  2014-12-11 18:59:00+01:00   \n",
       "1 2014-12-11 18:00:00+00:00  2014-12-11 19:00:00+01:00   \n",
       "2 2014-12-11 18:01:00+00:00  2014-12-11 19:01:00+01:00   \n",
       "3 2014-12-11 18:02:00+00:00  2014-12-11 19:02:00+01:00   \n",
       "4 2014-12-11 18:03:00+00:00  2014-12-11 19:03:00+01:00   \n",
       "\n",
       "   DE_KN_public1_grid_import  DE_KN_public2_grid_import  \\\n",
       "0                        NaN                        NaN   \n",
       "1                        NaN                        NaN   \n",
       "2                        NaN                        NaN   \n",
       "3                        NaN                        NaN   \n",
       "4                        NaN                        NaN   \n",
       "\n",
       "   DE_KN_residential1_dishwasher  DE_KN_residential1_freezer  \\\n",
       "0                            NaN                         NaN   \n",
       "1                            NaN                         NaN   \n",
       "2                            NaN                         NaN   \n",
       "3                            NaN                         NaN   \n",
       "4                            NaN                         NaN   \n",
       "\n",
       "   DE_KN_residential1_grid_import  DE_KN_residential1_heat_pump  \\\n",
       "0                             NaN                           NaN   \n",
       "1                             NaN                           NaN   \n",
       "2                             NaN                           NaN   \n",
       "3                             NaN                           NaN   \n",
       "4                             NaN                           NaN   \n",
       "\n",
       "   DE_KN_residential1_pv  DE_KN_residential1_washing_machine  ...  \\\n",
       "0                    NaN                                 NaN  ...   \n",
       "1                    NaN                                 NaN  ...   \n",
       "2                    NaN                                 NaN  ...   \n",
       "3                    NaN                                 NaN  ...   \n",
       "4                    NaN                                 NaN  ...   \n",
       "\n",
       "   DE_KN_residential5_refrigerator  DE_KN_residential5_washing_machine  \\\n",
       "0                              NaN                                 NaN   \n",
       "1                              NaN                                 NaN   \n",
       "2                              NaN                                 NaN   \n",
       "3                              NaN                                 NaN   \n",
       "4                              NaN                                 NaN   \n",
       "\n",
       "   DE_KN_residential6_circulation_pump  DE_KN_residential6_dishwasher  \\\n",
       "0                                  NaN                            NaN   \n",
       "1                                  NaN                            NaN   \n",
       "2                                  NaN                            NaN   \n",
       "3                                  NaN                            NaN   \n",
       "4                                  NaN                            NaN   \n",
       "\n",
       "   DE_KN_residential6_freezer  DE_KN_residential6_grid_export  \\\n",
       "0                         NaN                             NaN   \n",
       "1                         NaN                             NaN   \n",
       "2                         NaN                             NaN   \n",
       "3                         NaN                             NaN   \n",
       "4                         NaN                             NaN   \n",
       "\n",
       "   DE_KN_residential6_grid_import  DE_KN_residential6_pv  \\\n",
       "0                             NaN                    NaN   \n",
       "1                             NaN                    NaN   \n",
       "2                             NaN                    NaN   \n",
       "3                             NaN                    NaN   \n",
       "4                             NaN                    NaN   \n",
       "\n",
       "   DE_KN_residential6_washing_machine  interpolated  \n",
       "0                                 NaN           NaN  \n",
       "1                                 NaN           NaN  \n",
       "2                                 NaN           NaN  \n",
       "3                                 NaN           NaN  \n",
       "4                                 NaN           NaN  \n",
       "\n",
       "[5 rows x 44 columns]"
      ]
     },
     "execution_count": 6,
     "metadata": {},
     "output_type": "execute_result"
    }
   ],
   "source": [
    "df = pd.read_pickle(\"../Datasets/no_industrial_df.pickle\")\n",
    "df.head()"
   ]
  },
  {
   "cell_type": "code",
   "execution_count": 13,
   "metadata": {},
   "outputs": [
    {
     "name": "stdout",
     "output_type": "stream",
     "text": [
      "Redidential 1:\t6\t0.3996241944728226\n",
      "Redidential 2:\t5\t0.4667290528981207\n",
      "Redidential 3:\t8\t0.6621601355448515\n",
      "Redidential 4:\t9\t0.43227440964849256\n",
      "Redidential 5:\t4\t0.601044889913152\n",
      "Redidential 6:\t7\t0.4661736944882303\n"
     ]
    }
   ],
   "source": [
    "for i in range(1, 7):\n",
    "    res_df = df[df.columns[df.columns.str.contains(f\"residential{i}\")]]\n",
    "    print(f'Redidential {i}:', df.columns.str.contains(f\"residential{i}\").sum(), res_df.notnull().sum().sum() / np.product(res_df.shape), sep=\"\\t\")"
   ]
  },
  {
   "cell_type": "code",
   "execution_count": 14,
   "metadata": {},
   "outputs": [],
   "source": [
    "df3 = df[df.columns[df.columns.str.contains(\"residential3\")].tolist() + [\"utc_timestamp\"]].copy()\n",
    "df4 = df[df.columns[df.columns.str.contains(\"residential4\")].tolist() + [\"utc_timestamp\"]].copy()\n",
    "# del df"
   ]
  },
  {
   "cell_type": "code",
   "execution_count": 15,
   "metadata": {},
   "outputs": [
    {
     "data": {
      "text/html": [
       "<div>\n",
       "<style scoped>\n",
       "    .dataframe tbody tr th:only-of-type {\n",
       "        vertical-align: middle;\n",
       "    }\n",
       "\n",
       "    .dataframe tbody tr th {\n",
       "        vertical-align: top;\n",
       "    }\n",
       "\n",
       "    .dataframe thead th {\n",
       "        text-align: right;\n",
       "    }\n",
       "</style>\n",
       "<table border=\"1\" class=\"dataframe\">\n",
       "  <thead>\n",
       "    <tr style=\"text-align: right;\">\n",
       "      <th></th>\n",
       "      <th>DE_KN_residential3_circulation_pump</th>\n",
       "      <th>DE_KN_residential3_dishwasher</th>\n",
       "      <th>DE_KN_residential3_freezer</th>\n",
       "      <th>DE_KN_residential3_grid_export</th>\n",
       "      <th>DE_KN_residential3_grid_import</th>\n",
       "      <th>DE_KN_residential3_pv</th>\n",
       "      <th>DE_KN_residential3_refrigerator</th>\n",
       "      <th>DE_KN_residential3_washing_machine</th>\n",
       "    </tr>\n",
       "  </thead>\n",
       "  <tbody>\n",
       "    <tr>\n",
       "      <th>count</th>\n",
       "      <td>1.992576e+06</td>\n",
       "      <td>1.745742e+06</td>\n",
       "      <td>1.723855e+06</td>\n",
       "      <td>1.353257e+06</td>\n",
       "      <td>714159.000000</td>\n",
       "      <td>1.353256e+06</td>\n",
       "      <td>1.505981e+06</td>\n",
       "      <td>1.832706e+06</td>\n",
       "    </tr>\n",
       "    <tr>\n",
       "      <th>mean</th>\n",
       "      <td>9.501481e+02</td>\n",
       "      <td>7.131943e+02</td>\n",
       "      <td>2.681584e+02</td>\n",
       "      <td>4.379180e+03</td>\n",
       "      <td>2508.730502</td>\n",
       "      <td>6.617964e+03</td>\n",
       "      <td>2.592242e+02</td>\n",
       "      <td>9.989745e+02</td>\n",
       "    </tr>\n",
       "    <tr>\n",
       "      <th>std</th>\n",
       "      <td>5.263461e+02</td>\n",
       "      <td>3.252883e+02</td>\n",
       "      <td>1.127242e+02</td>\n",
       "      <td>2.498119e+03</td>\n",
       "      <td>1516.856240</td>\n",
       "      <td>3.714973e+03</td>\n",
       "      <td>1.661289e+02</td>\n",
       "      <td>5.530942e+02</td>\n",
       "    </tr>\n",
       "    <tr>\n",
       "      <th>min</th>\n",
       "      <td>0.000000e+00</td>\n",
       "      <td>0.000000e+00</td>\n",
       "      <td>2.000000e-03</td>\n",
       "      <td>0.000000e+00</td>\n",
       "      <td>0.007000</td>\n",
       "      <td>0.000000e+00</td>\n",
       "      <td>0.000000e+00</td>\n",
       "      <td>0.000000e+00</td>\n",
       "    </tr>\n",
       "    <tr>\n",
       "      <th>25%</th>\n",
       "      <td>4.623528e+02</td>\n",
       "      <td>4.694310e+02</td>\n",
       "      <td>2.126695e+02</td>\n",
       "      <td>2.668843e+03</td>\n",
       "      <td>1196.114000</td>\n",
       "      <td>3.941027e+03</td>\n",
       "      <td>1.056820e+02</td>\n",
       "      <td>5.324520e+02</td>\n",
       "    </tr>\n",
       "    <tr>\n",
       "      <th>50%</th>\n",
       "      <td>9.198955e+02</td>\n",
       "      <td>7.962020e+02</td>\n",
       "      <td>3.221780e+02</td>\n",
       "      <td>4.190434e+03</td>\n",
       "      <td>2325.950000</td>\n",
       "      <td>6.592381e+03</td>\n",
       "      <td>2.506040e+02</td>\n",
       "      <td>1.042498e+03</td>\n",
       "    </tr>\n",
       "    <tr>\n",
       "      <th>75%</th>\n",
       "      <td>1.372459e+03</td>\n",
       "      <td>9.863240e+02</td>\n",
       "      <td>3.662680e+02</td>\n",
       "      <td>6.159709e+03</td>\n",
       "      <td>3981.188000</td>\n",
       "      <td>9.405719e+03</td>\n",
       "      <td>4.051740e+02</td>\n",
       "      <td>1.485650e+03</td>\n",
       "    </tr>\n",
       "    <tr>\n",
       "      <th>max</th>\n",
       "      <td>1.777363e+03</td>\n",
       "      <td>1.175990e+03</td>\n",
       "      <td>3.662680e+02</td>\n",
       "      <td>9.388804e+03</td>\n",
       "      <td>5778.129000</td>\n",
       "      <td>1.367366e+04</td>\n",
       "      <td>5.533620e+02</td>\n",
       "      <td>1.878474e+03</td>\n",
       "    </tr>\n",
       "  </tbody>\n",
       "</table>\n",
       "</div>"
      ],
      "text/plain": [
       "       DE_KN_residential3_circulation_pump  DE_KN_residential3_dishwasher  \\\n",
       "count                         1.992576e+06                   1.745742e+06   \n",
       "mean                          9.501481e+02                   7.131943e+02   \n",
       "std                           5.263461e+02                   3.252883e+02   \n",
       "min                           0.000000e+00                   0.000000e+00   \n",
       "25%                           4.623528e+02                   4.694310e+02   \n",
       "50%                           9.198955e+02                   7.962020e+02   \n",
       "75%                           1.372459e+03                   9.863240e+02   \n",
       "max                           1.777363e+03                   1.175990e+03   \n",
       "\n",
       "       DE_KN_residential3_freezer  DE_KN_residential3_grid_export  \\\n",
       "count                1.723855e+06                    1.353257e+06   \n",
       "mean                 2.681584e+02                    4.379180e+03   \n",
       "std                  1.127242e+02                    2.498119e+03   \n",
       "min                  2.000000e-03                    0.000000e+00   \n",
       "25%                  2.126695e+02                    2.668843e+03   \n",
       "50%                  3.221780e+02                    4.190434e+03   \n",
       "75%                  3.662680e+02                    6.159709e+03   \n",
       "max                  3.662680e+02                    9.388804e+03   \n",
       "\n",
       "       DE_KN_residential3_grid_import  DE_KN_residential3_pv  \\\n",
       "count                   714159.000000           1.353256e+06   \n",
       "mean                      2508.730502           6.617964e+03   \n",
       "std                       1516.856240           3.714973e+03   \n",
       "min                          0.007000           0.000000e+00   \n",
       "25%                       1196.114000           3.941027e+03   \n",
       "50%                       2325.950000           6.592381e+03   \n",
       "75%                       3981.188000           9.405719e+03   \n",
       "max                       5778.129000           1.367366e+04   \n",
       "\n",
       "       DE_KN_residential3_refrigerator  DE_KN_residential3_washing_machine  \n",
       "count                     1.505981e+06                        1.832706e+06  \n",
       "mean                      2.592242e+02                        9.989745e+02  \n",
       "std                       1.661289e+02                        5.530942e+02  \n",
       "min                       0.000000e+00                        0.000000e+00  \n",
       "25%                       1.056820e+02                        5.324520e+02  \n",
       "50%                       2.506040e+02                        1.042498e+03  \n",
       "75%                       4.051740e+02                        1.485650e+03  \n",
       "max                       5.533620e+02                        1.878474e+03  "
      ]
     },
     "execution_count": 15,
     "metadata": {},
     "output_type": "execute_result"
    }
   ],
   "source": [
    "df3.describe()"
   ]
  },
  {
   "cell_type": "code",
   "execution_count": 16,
   "metadata": {},
   "outputs": [],
   "source": [
    "df3_normalized = (df3\n",
    "    .set_index(\"utc_timestamp\")\n",
    "    .sort_index()\n",
    "    .ffill()\n",
    "    .dropna(how=\"all\")\n",
    "    .fillna(0)\n",
    "    .diff(1)\n",
    "    .assign(\n",
    "        energy_consumption = lambda x: x[[\"DE_KN_residential3_circulation_pump\", \"DE_KN_residential3_dishwasher\", \"DE_KN_residential3_freezer\", \"DE_KN_residential3_refrigerator\", \"DE_KN_residential3_washing_machine\"]].sum(axis=1)\n",
    "    )\n",
    ")"
   ]
  },
  {
   "cell_type": "code",
   "execution_count": 406,
   "metadata": {},
   "outputs": [
    {
     "data": {
      "text/plain": [
       "<AxesSubplot: xlabel='utc_timestamp'>"
      ]
     },
     "execution_count": 406,
     "metadata": {},
     "output_type": "execute_result"
    },
    {
     "data": {
      "image/png": "[encoded data removed]",
      "text/plain": [
       "<Figure size 600x500 with 1 Axes>"
      ]
     },
     "metadata": {},
     "output_type": "display_data"
    }
   ],
   "source": [
    "df3_normalized.iloc[3_500:4_000].rolling(10).mean().plot(figsize=(6, 5))"
   ]
  },
  {
   "cell_type": "code",
   "execution_count": 18,
   "metadata": {},
   "outputs": [],
   "source": [
    "df3_normalized_nona = df3_normalized.dropna()[:1_000_000]\n"
   ]
  },
  {
   "cell_type": "code",
   "execution_count": 12,
   "metadata": {},
   "outputs": [
    {
     "data": {
      "application/vnd.jupyter.widget-view+json": {
       "model_id": "0df3fdcd16f34e759470a8def69ab5ea",
       "version_major": 2,
       "version_minor": 0
      },
      "text/plain": [
       "  0%|          | 0/100 [00:00<?, ?it/s]"
      ]
     },
     "metadata": {},
     "output_type": "display_data"
    },
    {
     "name": "stdout",
     "output_type": "stream",
     "text": [
      "0 1 2 3 "
     ]
    },
    {
     "ename": "KeyboardInterrupt",
     "evalue": "",
     "output_type": "error",
     "traceback": [
      "\u001b[0;31m---------------------------------------------------------------------------\u001b[0m",
      "\u001b[0;31mKeyboardInterrupt\u001b[0m                         Traceback (most recent call last)",
      "Cell \u001b[0;32mIn[12], line 5\u001b[0m\n\u001b[1;32m      3\u001b[0m \u001b[39mfor\u001b[39;00m i \u001b[39min\u001b[39;00m tqdm(\u001b[39mlist\u001b[39m(\u001b[39mrange\u001b[39m(df3_normalized_nona\u001b[39m.\u001b[39mshape[\u001b[39m0\u001b[39m] \u001b[39m/\u001b[39m\u001b[39m/\u001b[39m \u001b[39m10_000\u001b[39m))):\n\u001b[1;32m      4\u001b[0m     algo \u001b[39m=\u001b[39m rpt\u001b[39m.\u001b[39mPelt(model\u001b[39m=\u001b[39m\u001b[39m\"\u001b[39m\u001b[39mrbf\u001b[39m\u001b[39m\"\u001b[39m)\u001b[39m.\u001b[39mfit(df3_normalized_nona\u001b[39m.\u001b[39menergy_consumption\u001b[39m.\u001b[39miloc[(\u001b[39m10_000\u001b[39m\u001b[39m*\u001b[39mi):(\u001b[39m10_000\u001b[39m \u001b[39m*\u001b[39m (i \u001b[39m+\u001b[39m \u001b[39m1\u001b[39m))]\u001b[39m.\u001b[39mvalues)\n\u001b[0;32m----> 5\u001b[0m     tmp \u001b[39m=\u001b[39m np\u001b[39m.\u001b[39marray(algo\u001b[39m.\u001b[39;49mpredict(pen\u001b[39m=\u001b[39;49m\u001b[39m3\u001b[39;49m)) \u001b[39m+\u001b[39m (\u001b[39m10_000\u001b[39m\u001b[39m*\u001b[39mi)\n\u001b[1;32m      6\u001b[0m     result\u001b[39m.\u001b[39mextend(tmp)\n\u001b[1;32m      7\u001b[0m     \u001b[39mprint\u001b[39m(i, end\u001b[39m=\u001b[39m\u001b[39m\"\u001b[39m\u001b[39m \u001b[39m\u001b[39m\"\u001b[39m)\n",
      "File \u001b[0;32m~/miniconda3/envs/bitehack/lib/python3.10/site-packages/ruptures/detection/pelt.py:132\u001b[0m, in \u001b[0;36mPelt.predict\u001b[0;34m(self, pen)\u001b[0m\n\u001b[1;32m    124\u001b[0m \u001b[39mif\u001b[39;00m \u001b[39mnot\u001b[39;00m sanity_check(\n\u001b[1;32m    125\u001b[0m     n_samples\u001b[39m=\u001b[39m\u001b[39mself\u001b[39m\u001b[39m.\u001b[39mcost\u001b[39m.\u001b[39msignal\u001b[39m.\u001b[39mshape[\u001b[39m0\u001b[39m],\n\u001b[1;32m    126\u001b[0m     n_bkps\u001b[39m=\u001b[39m\u001b[39m0\u001b[39m,\n\u001b[1;32m    127\u001b[0m     jump\u001b[39m=\u001b[39m\u001b[39mself\u001b[39m\u001b[39m.\u001b[39mjump,\n\u001b[1;32m    128\u001b[0m     min_size\u001b[39m=\u001b[39m\u001b[39mself\u001b[39m\u001b[39m.\u001b[39mmin_size,\n\u001b[1;32m    129\u001b[0m ):\n\u001b[1;32m    130\u001b[0m     \u001b[39mraise\u001b[39;00m BadSegmentationParameters\n\u001b[0;32m--> 132\u001b[0m partition \u001b[39m=\u001b[39m \u001b[39mself\u001b[39;49m\u001b[39m.\u001b[39;49m_seg(pen)\n\u001b[1;32m    133\u001b[0m bkps \u001b[39m=\u001b[39m \u001b[39msorted\u001b[39m(e \u001b[39mfor\u001b[39;00m s, e \u001b[39min\u001b[39;00m partition\u001b[39m.\u001b[39mkeys())\n\u001b[1;32m    134\u001b[0m \u001b[39mreturn\u001b[39;00m bkps\n",
      "File \u001b[0;32m~/miniconda3/envs/bitehack/lib/python3.10/site-packages/ruptures/detection/pelt.py:79\u001b[0m, in \u001b[0;36mPelt._seg\u001b[0;34m(self, pen)\u001b[0m\n\u001b[1;32m     77\u001b[0m     partitions[bkp] \u001b[39m=\u001b[39m \u001b[39mmin\u001b[39m(subproblems, key\u001b[39m=\u001b[39m\u001b[39mlambda\u001b[39;00m d: \u001b[39msum\u001b[39m(d\u001b[39m.\u001b[39mvalues()))\n\u001b[1;32m     78\u001b[0m     \u001b[39m# trimming the admissible set\u001b[39;00m\n\u001b[0;32m---> 79\u001b[0m     admissible \u001b[39m=\u001b[39m [\n\u001b[1;32m     80\u001b[0m         t\n\u001b[1;32m     81\u001b[0m         \u001b[39mfor\u001b[39;00m t, partition \u001b[39min\u001b[39;00m \u001b[39mzip\u001b[39m(admissible, subproblems)\n\u001b[1;32m     82\u001b[0m         \u001b[39mif\u001b[39;00m \u001b[39msum\u001b[39m(partition\u001b[39m.\u001b[39mvalues()) \u001b[39m<\u001b[39m\u001b[39m=\u001b[39m \u001b[39msum\u001b[39m(partitions[bkp]\u001b[39m.\u001b[39mvalues()) \u001b[39m+\u001b[39m pen\n\u001b[1;32m     83\u001b[0m     ]\n\u001b[1;32m     85\u001b[0m best_partition \u001b[39m=\u001b[39m partitions[\u001b[39mself\u001b[39m\u001b[39m.\u001b[39mn_samples]\n\u001b[1;32m     86\u001b[0m \u001b[39mdel\u001b[39;00m best_partition[(\u001b[39m0\u001b[39m, \u001b[39m0\u001b[39m)]\n",
      "File \u001b[0;32m~/miniconda3/envs/bitehack/lib/python3.10/site-packages/ruptures/detection/pelt.py:82\u001b[0m, in \u001b[0;36m<listcomp>\u001b[0;34m(.0)\u001b[0m\n\u001b[1;32m     77\u001b[0m     partitions[bkp] \u001b[39m=\u001b[39m \u001b[39mmin\u001b[39m(subproblems, key\u001b[39m=\u001b[39m\u001b[39mlambda\u001b[39;00m d: \u001b[39msum\u001b[39m(d\u001b[39m.\u001b[39mvalues()))\n\u001b[1;32m     78\u001b[0m     \u001b[39m# trimming the admissible set\u001b[39;00m\n\u001b[1;32m     79\u001b[0m     admissible \u001b[39m=\u001b[39m [\n\u001b[1;32m     80\u001b[0m         t\n\u001b[1;32m     81\u001b[0m         \u001b[39mfor\u001b[39;00m t, partition \u001b[39min\u001b[39;00m \u001b[39mzip\u001b[39m(admissible, subproblems)\n\u001b[0;32m---> 82\u001b[0m         \u001b[39mif\u001b[39;00m \u001b[39msum\u001b[39m(partition\u001b[39m.\u001b[39mvalues()) \u001b[39m<\u001b[39m\u001b[39m=\u001b[39m \u001b[39msum\u001b[39;49m(partitions[bkp]\u001b[39m.\u001b[39;49mvalues()) \u001b[39m+\u001b[39m pen\n\u001b[1;32m     83\u001b[0m     ]\n\u001b[1;32m     85\u001b[0m best_partition \u001b[39m=\u001b[39m partitions[\u001b[39mself\u001b[39m\u001b[39m.\u001b[39mn_samples]\n\u001b[1;32m     86\u001b[0m \u001b[39mdel\u001b[39;00m best_partition[(\u001b[39m0\u001b[39m, \u001b[39m0\u001b[39m)]\n",
      "\u001b[0;31mKeyboardInterrupt\u001b[0m: "
     ]
    }
   ],
   "source": [
    "result = []\n",
    "for i in tqdm(list(range(df3_normalized_nona.shape[0] // 10_000))):\n",
    "    algo = rpt.Pelt(model=\"rbf\").fit(df3_normalized_nona.energy_consumption.iloc[(10_000*i):(10_000 * (i + 1))].values)\n",
    "    tmp = np.array(algo.predict(pen=3)) + (10_000*i)\n",
    "    result.extend(tmp)\n",
    "    print(i, end=\" \")"
   ]
  },
  {
   "cell_type": "code",
   "execution_count": 19,
   "metadata": {},
   "outputs": [],
   "source": [
    "result = np.load(\"result.npy\")"
   ]
  },
  {
   "cell_type": "code",
   "execution_count": 20,
   "metadata": {},
   "outputs": [],
   "source": [
    "result = result.tolist()\n",
    "result.insert(0, 0)\n",
    "result = np.array(result)"
   ]
  },
  {
   "cell_type": "code",
   "execution_count": 21,
   "metadata": {},
   "outputs": [
    {
     "data": {
      "text/plain": [
       "(1000000,)"
      ]
     },
     "execution_count": 21,
     "metadata": {},
     "output_type": "execute_result"
    }
   ],
   "source": [
    "df3_normalized_nona.energy_consumption.shape"
   ]
  },
  {
   "cell_type": "code",
   "execution_count": 22,
   "metadata": {},
   "outputs": [
    {
     "data": {
      "text/html": [
       "<div>\n",
       "<style scoped>\n",
       "    .dataframe tbody tr th:only-of-type {\n",
       "        vertical-align: middle;\n",
       "    }\n",
       "\n",
       "    .dataframe tbody tr th {\n",
       "        vertical-align: top;\n",
       "    }\n",
       "\n",
       "    .dataframe thead th {\n",
       "        text-align: right;\n",
       "    }\n",
       "</style>\n",
       "<table border=\"1\" class=\"dataframe\">\n",
       "  <thead>\n",
       "    <tr style=\"text-align: right;\">\n",
       "      <th></th>\n",
       "      <th>DE_KN_residential3_circulation_pump</th>\n",
       "      <th>DE_KN_residential3_dishwasher</th>\n",
       "      <th>DE_KN_residential3_freezer</th>\n",
       "      <th>DE_KN_residential3_grid_export</th>\n",
       "      <th>DE_KN_residential3_grid_import</th>\n",
       "      <th>DE_KN_residential3_pv</th>\n",
       "      <th>DE_KN_residential3_refrigerator</th>\n",
       "      <th>DE_KN_residential3_washing_machine</th>\n",
       "      <th>energy_consumption</th>\n",
       "      <th>start</th>\n",
       "      <th>end</th>\n",
       "      <th>step</th>\n",
       "    </tr>\n",
       "  </thead>\n",
       "  <tbody>\n",
       "    <tr>\n",
       "      <th>0</th>\n",
       "      <td>0.000800</td>\n",
       "      <td>0.000067</td>\n",
       "      <td>0.001400</td>\n",
       "      <td>0.0</td>\n",
       "      <td>0.0</td>\n",
       "      <td>0.0</td>\n",
       "      <td>0.0</td>\n",
       "      <td>0.0</td>\n",
       "      <td>0.002267</td>\n",
       "      <td>0</td>\n",
       "      <td>15</td>\n",
       "      <td>15</td>\n",
       "    </tr>\n",
       "    <tr>\n",
       "      <th>1</th>\n",
       "      <td>0.001133</td>\n",
       "      <td>0.000033</td>\n",
       "      <td>0.000083</td>\n",
       "      <td>0.0</td>\n",
       "      <td>0.0</td>\n",
       "      <td>0.0</td>\n",
       "      <td>0.0</td>\n",
       "      <td>0.0</td>\n",
       "      <td>0.001250</td>\n",
       "      <td>15</td>\n",
       "      <td>75</td>\n",
       "      <td>60</td>\n",
       "    </tr>\n",
       "    <tr>\n",
       "      <th>2</th>\n",
       "      <td>0.001150</td>\n",
       "      <td>0.000050</td>\n",
       "      <td>0.001700</td>\n",
       "      <td>0.0</td>\n",
       "      <td>0.0</td>\n",
       "      <td>0.0</td>\n",
       "      <td>0.0</td>\n",
       "      <td>0.0</td>\n",
       "      <td>0.002900</td>\n",
       "      <td>75</td>\n",
       "      <td>95</td>\n",
       "      <td>20</td>\n",
       "    </tr>\n",
       "    <tr>\n",
       "      <th>3</th>\n",
       "      <td>0.001154</td>\n",
       "      <td>0.000046</td>\n",
       "      <td>0.000077</td>\n",
       "      <td>0.0</td>\n",
       "      <td>0.0</td>\n",
       "      <td>0.0</td>\n",
       "      <td>0.0</td>\n",
       "      <td>0.0</td>\n",
       "      <td>0.001277</td>\n",
       "      <td>95</td>\n",
       "      <td>160</td>\n",
       "      <td>65</td>\n",
       "    </tr>\n",
       "    <tr>\n",
       "      <th>4</th>\n",
       "      <td>0.001100</td>\n",
       "      <td>0.000050</td>\n",
       "      <td>0.001750</td>\n",
       "      <td>0.0</td>\n",
       "      <td>0.0</td>\n",
       "      <td>0.0</td>\n",
       "      <td>0.0</td>\n",
       "      <td>0.0</td>\n",
       "      <td>0.002900</td>\n",
       "      <td>160</td>\n",
       "      <td>180</td>\n",
       "      <td>20</td>\n",
       "    </tr>\n",
       "  </tbody>\n",
       "</table>\n",
       "</div>"
      ],
      "text/plain": [
       "   DE_KN_residential3_circulation_pump  DE_KN_residential3_dishwasher  \\\n",
       "0                             0.000800                       0.000067   \n",
       "1                             0.001133                       0.000033   \n",
       "2                             0.001150                       0.000050   \n",
       "3                             0.001154                       0.000046   \n",
       "4                             0.001100                       0.000050   \n",
       "\n",
       "   DE_KN_residential3_freezer  DE_KN_residential3_grid_export  \\\n",
       "0                    0.001400                             0.0   \n",
       "1                    0.000083                             0.0   \n",
       "2                    0.001700                             0.0   \n",
       "3                    0.000077                             0.0   \n",
       "4                    0.001750                             0.0   \n",
       "\n",
       "   DE_KN_residential3_grid_import  DE_KN_residential3_pv  \\\n",
       "0                             0.0                    0.0   \n",
       "1                             0.0                    0.0   \n",
       "2                             0.0                    0.0   \n",
       "3                             0.0                    0.0   \n",
       "4                             0.0                    0.0   \n",
       "\n",
       "   DE_KN_residential3_refrigerator  DE_KN_residential3_washing_machine  \\\n",
       "0                              0.0                                 0.0   \n",
       "1                              0.0                                 0.0   \n",
       "2                              0.0                                 0.0   \n",
       "3                              0.0                                 0.0   \n",
       "4                              0.0                                 0.0   \n",
       "\n",
       "   energy_consumption  start  end  step  \n",
       "0            0.002267      0   15    15  \n",
       "1            0.001250     15   75    60  \n",
       "2            0.002900     75   95    20  \n",
       "3            0.001277     95  160    65  \n",
       "4            0.002900    160  180    20  "
      ]
     },
     "execution_count": 22,
     "metadata": {},
     "output_type": "execute_result"
    }
   ],
   "source": [
    "df3_mod_list = []\n",
    "for start, end in zip(result[:-1], result[1:]):\n",
    "    df3_mod_list.append(df3_normalized_nona[start:end].mean())\n",
    "\n",
    "df3_modified = pd.DataFrame(df3_mod_list)\n",
    "df3_modified.loc[:, \"start\"] = result[:-1]\n",
    "df3_modified.loc[:, \"end\"] = result[1:]\n",
    "df3_modified.loc[:, \"step\"] = result[1:] - result[:-1]\n",
    "df3_modified.head()"
   ]
  },
  {
   "cell_type": "code",
   "execution_count": 23,
   "metadata": {},
   "outputs": [],
   "source": [
    "from sklearn.model_selection import train_test_split"
   ]
  },
  {
   "cell_type": "code",
   "execution_count": 314,
   "metadata": {},
   "outputs": [],
   "source": [
    "from sklearn.datasets import make_regression\n",
    "from sklearn.neighbors import KNeighborsRegressor\n",
    "model = KNeighborsRegressor()"
   ]
  },
  {
   "cell_type": "code",
   "execution_count": 25,
   "metadata": {},
   "outputs": [],
   "source": [
    "from sklearn.linear_model import LinearRegression\n",
    "from sklearn.metrics import mean_absolute_percentage_error, mean_squared_error\n",
    "model = LinearRegression()"
   ]
  },
  {
   "cell_type": "code",
   "execution_count": 144,
   "metadata": {},
   "outputs": [],
   "source": [
    "import xgboost as xgb"
   ]
  },
  {
   "cell_type": "code",
   "execution_count": 412,
   "metadata": {},
   "outputs": [],
   "source": [
    "from sklearn.ensemble import RandomForestRegressor\n",
    "model = RandomForestRegressor()"
   ]
  },
  {
   "cell_type": "code",
   "execution_count": 413,
   "metadata": {},
   "outputs": [],
   "source": [
    "#model = xgb.XGBRegressor(colsample_bytree=0.7)"
   ]
  },
  {
   "cell_type": "code",
   "execution_count": 414,
   "metadata": {},
   "outputs": [],
   "source": [
    "cols = [\"DE_KN_residential3_circulation_pump\", \"DE_KN_residential3_dishwasher\", \"DE_KN_residential3_freezer\", \"DE_KN_residential3_refrigerator\", \"DE_KN_residential3_washing_machine\"]"
   ]
  },
  {
   "cell_type": "code",
   "execution_count": 415,
   "metadata": {},
   "outputs": [],
   "source": [
    "#cols = [\"DE_KN_residential3_dishwasher\", \"DE_KN_residential3_washing_machine\"]"
   ]
  },
  {
   "cell_type": "code",
   "execution_count": 416,
   "metadata": {},
   "outputs": [],
   "source": [
    "X = df3_modified.loc[:, [\"energy_consumption\", \"step\"]].values\n",
    "y = df3_modified.loc[:, cols].values"
   ]
  },
  {
   "cell_type": "code",
   "execution_count": 417,
   "metadata": {},
   "outputs": [
    {
     "data": {
      "text/plain": [
       "array([[1.31428571e-03, 5.71428571e-05, 1.48571429e-03, 1.71428571e-04,\n",
       "        0.00000000e+00],\n",
       "       [1.20000000e-03, 0.00000000e+00, 2.00000000e-04, 0.00000000e+00,\n",
       "        4.80000000e-03],\n",
       "       [1.42857143e-04, 5.71428571e-05, 2.85714286e-05, 2.85714286e-05,\n",
       "        0.00000000e+00],\n",
       "       ...,\n",
       "       [1.20000000e-03, 6.66666667e-05, 1.73333333e-03, 0.00000000e+00,\n",
       "        0.00000000e+00],\n",
       "       [1.12000000e-03, 4.00000000e-05, 1.72000000e-03, 4.80000000e-04,\n",
       "        0.00000000e+00],\n",
       "       [1.11111111e-04, 2.22222222e-05, 0.00000000e+00, 0.00000000e+00,\n",
       "        5.11111111e-04]])"
      ]
     },
     "execution_count": 417,
     "metadata": {},
     "output_type": "execute_result"
    }
   ],
   "source": [
    "y_test"
   ]
  },
  {
   "cell_type": "code",
   "execution_count": 418,
   "metadata": {},
   "outputs": [],
   "source": [
    "mask = (X[:, 0] > 1e-4)"
   ]
  },
  {
   "cell_type": "code",
   "execution_count": 419,
   "metadata": {},
   "outputs": [],
   "source": [
    "X_train, X_test, y_train, y_test = train_test_split(X[mask, :], y[mask, :], test_size=0.2)"
   ]
  },
  {
   "cell_type": "code",
   "execution_count": 449,
   "metadata": {},
   "outputs": [
    {
     "data": {
      "text/html": [
       "<style>#sk-container-id-15 {color: black;background-color: white;}#sk-container-id-15 pre{padding: 0;}#sk-container-id-15 div.sk-toggleable {background-color: white;}#sk-container-id-15 label.sk-toggleable__label {cursor: pointer;display: block;width: 100%;margin-bottom: 0;padding: 0.3em;box-sizing: border-box;text-align: center;}#sk-container-id-15 label.sk-toggleable__label-arrow:before {content: \"▸\";float: left;margin-right: 0.25em;color: #696969;}#sk-container-id-15 label.sk-toggleable__label-arrow:hover:before {color: black;}#sk-container-id-15 div.sk-estimator:hover label.sk-toggleable__label-arrow:before {color: black;}#sk-container-id-15 div.sk-toggleable__content {max-height: 0;max-width: 0;overflow: hidden;text-align: left;background-color: #f0f8ff;}#sk-container-id-15 div.sk-toggleable__content pre {margin: 0.2em;color: black;border-radius: 0.25em;background-color: #f0f8ff;}#sk-container-id-15 input.sk-toggleable__control:checked~div.sk-toggleable__content {max-height: 200px;max-width: 100%;overflow: auto;}#sk-container-id-15 input.sk-toggleable__control:checked~label.sk-toggleable__label-arrow:before {content: \"▾\";}#sk-container-id-15 div.sk-estimator input.sk-toggleable__control:checked~label.sk-toggleable__label {background-color: #d4ebff;}#sk-container-id-15 div.sk-label input.sk-toggleable__control:checked~label.sk-toggleable__label {background-color: #d4ebff;}#sk-container-id-15 input.sk-hidden--visually {border: 0;clip: rect(1px 1px 1px 1px);clip: rect(1px, 1px, 1px, 1px);height: 1px;margin: -1px;overflow: hidden;padding: 0;position: absolute;width: 1px;}#sk-container-id-15 div.sk-estimator {font-family: monospace;background-color: #f0f8ff;border: 1px dotted black;border-radius: 0.25em;box-sizing: border-box;margin-bottom: 0.5em;}#sk-container-id-15 div.sk-estimator:hover {background-color: #d4ebff;}#sk-container-id-15 div.sk-parallel-item::after {content: \"\";width: 100%;border-bottom: 1px solid gray;flex-grow: 1;}#sk-container-id-15 div.sk-label:hover label.sk-toggleable__label {background-color: #d4ebff;}#sk-container-id-15 div.sk-serial::before {content: \"\";position: absolute;border-left: 1px solid gray;box-sizing: border-box;top: 0;bottom: 0;left: 50%;z-index: 0;}#sk-container-id-15 div.sk-serial {display: flex;flex-direction: column;align-items: center;background-color: white;padding-right: 0.2em;padding-left: 0.2em;position: relative;}#sk-container-id-15 div.sk-item {position: relative;z-index: 1;}#sk-container-id-15 div.sk-parallel {display: flex;align-items: stretch;justify-content: center;background-color: white;position: relative;}#sk-container-id-15 div.sk-item::before, #sk-container-id-15 div.sk-parallel-item::before {content: \"\";position: absolute;border-left: 1px solid gray;box-sizing: border-box;top: 0;bottom: 0;left: 50%;z-index: -1;}#sk-container-id-15 div.sk-parallel-item {display: flex;flex-direction: column;z-index: 1;position: relative;background-color: white;}#sk-container-id-15 div.sk-parallel-item:first-child::after {align-self: flex-end;width: 50%;}#sk-container-id-15 div.sk-parallel-item:last-child::after {align-self: flex-start;width: 50%;}#sk-container-id-15 div.sk-parallel-item:only-child::after {width: 0;}#sk-container-id-15 div.sk-dashed-wrapped {border: 1px dashed gray;margin: 0 0.4em 0.5em 0.4em;box-sizing: border-box;padding-bottom: 0.4em;background-color: white;}#sk-container-id-15 div.sk-label label {font-family: monospace;font-weight: bold;display: inline-block;line-height: 1.2em;}#sk-container-id-15 div.sk-label-container {text-align: center;}#sk-container-id-15 div.sk-container {/* jupyter's `normalize.less` sets `[hidden] { display: none; }` but bootstrap.min.css set `[hidden] { display: none !important; }` so we also need the `!important` here to be able to override the default hidden behavior on the sphinx rendered scikit-learn.org. See: https://github.com/scikit-learn/scikit-learn/issues/21755 */display: inline-block !important;position: relative;}#sk-container-id-15 div.sk-text-repr-fallback {display: none;}</style><div id=\"sk-container-id-15\" class=\"sk-top-container\"><div class=\"sk-text-repr-fallback\"><pre>RandomForestRegressor()</pre><b>In a Jupyter environment, please rerun this cell to show the HTML representation or trust the notebook. <br />On GitHub, the HTML representation is unable to render, please try loading this page with nbviewer.org.</b></div><div class=\"sk-container\" hidden><div class=\"sk-item\"><div class=\"sk-estimator sk-toggleable\"><input class=\"sk-toggleable__control sk-hidden--visually\" id=\"sk-estimator-id-15\" type=\"checkbox\" checked><label for=\"sk-estimator-id-15\" class=\"sk-toggleable__label sk-toggleable__label-arrow\">RandomForestRegressor</label><div class=\"sk-toggleable__content\"><pre>RandomForestRegressor()</pre></div></div></div></div></div>"
      ],
      "text/plain": [
       "RandomForestRegressor()"
      ]
     },
     "execution_count": 449,
     "metadata": {},
     "output_type": "execute_result"
    }
   ],
   "source": [
    "model.fit(X_train, y_train)"
   ]
  },
  {
   "cell_type": "code",
   "execution_count": 450,
   "metadata": {},
   "outputs": [],
   "source": [
    "pred_y = model.predict(X_test)"
   ]
  },
  {
   "cell_type": "code",
   "execution_count": 451,
   "metadata": {},
   "outputs": [
    {
     "data": {
      "text/plain": [
       "array([[1.80526857e-03, 5.53152097e-05, 1.57732260e-03, 7.76647069e-04,\n",
       "        3.05446545e-04],\n",
       "       [1.54823313e-04, 3.91728408e-05, 6.49242026e-05, 1.66832207e-04,\n",
       "        9.42474356e-05],\n",
       "       [1.17420173e-03, 4.49970331e-05, 4.07470276e-05, 6.44276435e-04,\n",
       "        4.57777791e-05],\n",
       "       ...,\n",
       "       [7.12080187e-04, 4.69698759e-05, 6.27870618e-04, 4.71056889e-04,\n",
       "        8.68909665e-06],\n",
       "       [1.04652040e-03, 4.66176643e-05, 1.43376297e-03, 4.57215156e-04,\n",
       "        8.25504692e-05],\n",
       "       [1.14934205e-03, 5.34295051e-05, 1.10605077e-04, 3.42350788e-04,\n",
       "        2.26750498e-04]])"
      ]
     },
     "execution_count": 451,
     "metadata": {},
     "output_type": "execute_result"
    }
   ],
   "source": [
    "pred_y"
   ]
  },
  {
   "cell_type": "code",
   "execution_count": 452,
   "metadata": {},
   "outputs": [],
   "source": [
    "pred_full_y = model.predict(X)"
   ]
  },
  {
   "cell_type": "code",
   "execution_count": 453,
   "metadata": {},
   "outputs": [],
   "source": [
    "df3_modified.loc[:, [col + \"_pred\" for col in cols]] = pred_full_y"
   ]
  },
  {
   "cell_type": "code",
   "execution_count": 454,
   "metadata": {},
   "outputs": [
    {
     "data": {
      "text/html": [
       "<div>\n",
       "<style scoped>\n",
       "    .dataframe tbody tr th:only-of-type {\n",
       "        vertical-align: middle;\n",
       "    }\n",
       "\n",
       "    .dataframe tbody tr th {\n",
       "        vertical-align: top;\n",
       "    }\n",
       "\n",
       "    .dataframe thead th {\n",
       "        text-align: right;\n",
       "    }\n",
       "</style>\n",
       "<table border=\"1\" class=\"dataframe\">\n",
       "  <thead>\n",
       "    <tr style=\"text-align: right;\">\n",
       "      <th></th>\n",
       "      <th>DE_KN_residential3_circulation_pump</th>\n",
       "      <th>DE_KN_residential3_dishwasher</th>\n",
       "      <th>DE_KN_residential3_freezer</th>\n",
       "      <th>DE_KN_residential3_grid_export</th>\n",
       "      <th>DE_KN_residential3_grid_import</th>\n",
       "      <th>DE_KN_residential3_pv</th>\n",
       "      <th>DE_KN_residential3_refrigerator</th>\n",
       "      <th>DE_KN_residential3_washing_machine</th>\n",
       "      <th>energy_consumption</th>\n",
       "      <th>start</th>\n",
       "      <th>end</th>\n",
       "      <th>step</th>\n",
       "      <th>DE_KN_residential3_circulation_pump_pred</th>\n",
       "      <th>DE_KN_residential3_dishwasher_pred</th>\n",
       "      <th>DE_KN_residential3_freezer_pred</th>\n",
       "      <th>DE_KN_residential3_refrigerator_pred</th>\n",
       "      <th>DE_KN_residential3_washing_machine_pred</th>\n",
       "    </tr>\n",
       "  </thead>\n",
       "  <tbody>\n",
       "    <tr>\n",
       "      <th>0</th>\n",
       "      <td>0.000800</td>\n",
       "      <td>0.000067</td>\n",
       "      <td>0.001400</td>\n",
       "      <td>0.0</td>\n",
       "      <td>0.000000</td>\n",
       "      <td>0.0</td>\n",
       "      <td>0.000000</td>\n",
       "      <td>0.000000</td>\n",
       "      <td>0.002267</td>\n",
       "      <td>0</td>\n",
       "      <td>15</td>\n",
       "      <td>15</td>\n",
       "      <td>0.001159</td>\n",
       "      <td>0.000135</td>\n",
       "      <td>0.000446</td>\n",
       "      <td>0.000369</td>\n",
       "      <td>1.570772e-04</td>\n",
       "    </tr>\n",
       "    <tr>\n",
       "      <th>1</th>\n",
       "      <td>0.001133</td>\n",
       "      <td>0.000033</td>\n",
       "      <td>0.000083</td>\n",
       "      <td>0.0</td>\n",
       "      <td>0.000000</td>\n",
       "      <td>0.0</td>\n",
       "      <td>0.000000</td>\n",
       "      <td>0.000000</td>\n",
       "      <td>0.001250</td>\n",
       "      <td>15</td>\n",
       "      <td>75</td>\n",
       "      <td>60</td>\n",
       "      <td>0.001126</td>\n",
       "      <td>0.000043</td>\n",
       "      <td>0.000024</td>\n",
       "      <td>0.000056</td>\n",
       "      <td>6.281018e-07</td>\n",
       "    </tr>\n",
       "    <tr>\n",
       "      <th>2</th>\n",
       "      <td>0.001150</td>\n",
       "      <td>0.000050</td>\n",
       "      <td>0.001700</td>\n",
       "      <td>0.0</td>\n",
       "      <td>0.000000</td>\n",
       "      <td>0.0</td>\n",
       "      <td>0.000000</td>\n",
       "      <td>0.000000</td>\n",
       "      <td>0.002900</td>\n",
       "      <td>75</td>\n",
       "      <td>95</td>\n",
       "      <td>20</td>\n",
       "      <td>0.001047</td>\n",
       "      <td>0.000069</td>\n",
       "      <td>0.001681</td>\n",
       "      <td>0.000063</td>\n",
       "      <td>4.143345e-05</td>\n",
       "    </tr>\n",
       "    <tr>\n",
       "      <th>3</th>\n",
       "      <td>0.001154</td>\n",
       "      <td>0.000046</td>\n",
       "      <td>0.000077</td>\n",
       "      <td>0.0</td>\n",
       "      <td>0.000000</td>\n",
       "      <td>0.0</td>\n",
       "      <td>0.000000</td>\n",
       "      <td>0.000000</td>\n",
       "      <td>0.001277</td>\n",
       "      <td>95</td>\n",
       "      <td>160</td>\n",
       "      <td>65</td>\n",
       "      <td>0.001029</td>\n",
       "      <td>0.000043</td>\n",
       "      <td>0.000104</td>\n",
       "      <td>0.000100</td>\n",
       "      <td>1.541346e-06</td>\n",
       "    </tr>\n",
       "    <tr>\n",
       "      <th>4</th>\n",
       "      <td>0.001100</td>\n",
       "      <td>0.000050</td>\n",
       "      <td>0.001750</td>\n",
       "      <td>0.0</td>\n",
       "      <td>0.000000</td>\n",
       "      <td>0.0</td>\n",
       "      <td>0.000000</td>\n",
       "      <td>0.000000</td>\n",
       "      <td>0.002900</td>\n",
       "      <td>160</td>\n",
       "      <td>180</td>\n",
       "      <td>20</td>\n",
       "      <td>0.001047</td>\n",
       "      <td>0.000069</td>\n",
       "      <td>0.001681</td>\n",
       "      <td>0.000063</td>\n",
       "      <td>4.143345e-05</td>\n",
       "    </tr>\n",
       "    <tr>\n",
       "      <th>...</th>\n",
       "      <td>...</td>\n",
       "      <td>...</td>\n",
       "      <td>...</td>\n",
       "      <td>...</td>\n",
       "      <td>...</td>\n",
       "      <td>...</td>\n",
       "      <td>...</td>\n",
       "      <td>...</td>\n",
       "      <td>...</td>\n",
       "      <td>...</td>\n",
       "      <td>...</td>\n",
       "      <td>...</td>\n",
       "      <td>...</td>\n",
       "      <td>...</td>\n",
       "      <td>...</td>\n",
       "      <td>...</td>\n",
       "      <td>...</td>\n",
       "    </tr>\n",
       "    <tr>\n",
       "      <th>19879</th>\n",
       "      <td>0.001154</td>\n",
       "      <td>0.000077</td>\n",
       "      <td>0.000000</td>\n",
       "      <td>0.0</td>\n",
       "      <td>0.025754</td>\n",
       "      <td>0.0</td>\n",
       "      <td>0.000492</td>\n",
       "      <td>0.021523</td>\n",
       "      <td>0.023246</td>\n",
       "      <td>999725</td>\n",
       "      <td>999790</td>\n",
       "      <td>65</td>\n",
       "      <td>0.001151</td>\n",
       "      <td>0.000070</td>\n",
       "      <td>0.000138</td>\n",
       "      <td>0.000469</td>\n",
       "      <td>2.143325e-02</td>\n",
       "    </tr>\n",
       "    <tr>\n",
       "      <th>19880</th>\n",
       "      <td>0.001144</td>\n",
       "      <td>0.000089</td>\n",
       "      <td>0.000000</td>\n",
       "      <td>0.0</td>\n",
       "      <td>0.004856</td>\n",
       "      <td>0.0</td>\n",
       "      <td>0.000411</td>\n",
       "      <td>0.000478</td>\n",
       "      <td>0.002122</td>\n",
       "      <td>999790</td>\n",
       "      <td>999880</td>\n",
       "      <td>90</td>\n",
       "      <td>0.001091</td>\n",
       "      <td>0.000067</td>\n",
       "      <td>0.000050</td>\n",
       "      <td>0.000449</td>\n",
       "      <td>4.655941e-04</td>\n",
       "    </tr>\n",
       "    <tr>\n",
       "      <th>19881</th>\n",
       "      <td>0.001091</td>\n",
       "      <td>0.000091</td>\n",
       "      <td>0.000000</td>\n",
       "      <td>0.0</td>\n",
       "      <td>0.004455</td>\n",
       "      <td>0.0</td>\n",
       "      <td>0.000000</td>\n",
       "      <td>0.000218</td>\n",
       "      <td>0.001400</td>\n",
       "      <td>999880</td>\n",
       "      <td>999935</td>\n",
       "      <td>55</td>\n",
       "      <td>0.001033</td>\n",
       "      <td>0.000047</td>\n",
       "      <td>0.000165</td>\n",
       "      <td>0.000124</td>\n",
       "      <td>3.031235e-05</td>\n",
       "    </tr>\n",
       "    <tr>\n",
       "      <th>19882</th>\n",
       "      <td>0.001089</td>\n",
       "      <td>0.000067</td>\n",
       "      <td>0.000000</td>\n",
       "      <td>0.0</td>\n",
       "      <td>0.003644</td>\n",
       "      <td>0.0</td>\n",
       "      <td>0.000778</td>\n",
       "      <td>0.000000</td>\n",
       "      <td>0.001933</td>\n",
       "      <td>999935</td>\n",
       "      <td>999980</td>\n",
       "      <td>45</td>\n",
       "      <td>0.001050</td>\n",
       "      <td>0.000051</td>\n",
       "      <td>0.000146</td>\n",
       "      <td>0.000686</td>\n",
       "      <td>0.000000e+00</td>\n",
       "    </tr>\n",
       "    <tr>\n",
       "      <th>19883</th>\n",
       "      <td>0.001150</td>\n",
       "      <td>0.000100</td>\n",
       "      <td>0.000000</td>\n",
       "      <td>0.0</td>\n",
       "      <td>0.004550</td>\n",
       "      <td>0.0</td>\n",
       "      <td>0.000050</td>\n",
       "      <td>0.000000</td>\n",
       "      <td>0.001300</td>\n",
       "      <td>999980</td>\n",
       "      <td>1000000</td>\n",
       "      <td>20</td>\n",
       "      <td>0.000958</td>\n",
       "      <td>0.000057</td>\n",
       "      <td>0.000058</td>\n",
       "      <td>0.000189</td>\n",
       "      <td>3.701366e-05</td>\n",
       "    </tr>\n",
       "  </tbody>\n",
       "</table>\n",
       "<p>19884 rows × 17 columns</p>\n",
       "</div>"
      ],
      "text/plain": [
       "       DE_KN_residential3_circulation_pump  DE_KN_residential3_dishwasher  \\\n",
       "0                                 0.000800                       0.000067   \n",
       "1                                 0.001133                       0.000033   \n",
       "2                                 0.001150                       0.000050   \n",
       "3                                 0.001154                       0.000046   \n",
       "4                                 0.001100                       0.000050   \n",
       "...                                    ...                            ...   \n",
       "19879                             0.001154                       0.000077   \n",
       "19880                             0.001144                       0.000089   \n",
       "19881                             0.001091                       0.000091   \n",
       "19882                             0.001089                       0.000067   \n",
       "19883                             0.001150                       0.000100   \n",
       "\n",
       "       DE_KN_residential3_freezer  DE_KN_residential3_grid_export  \\\n",
       "0                        0.001400                             0.0   \n",
       "1                        0.000083                             0.0   \n",
       "2                        0.001700                             0.0   \n",
       "3                        0.000077                             0.0   \n",
       "4                        0.001750                             0.0   \n",
       "...                           ...                             ...   \n",
       "19879                    0.000000                             0.0   \n",
       "19880                    0.000000                             0.0   \n",
       "19881                    0.000000                             0.0   \n",
       "19882                    0.000000                             0.0   \n",
       "19883                    0.000000                             0.0   \n",
       "\n",
       "       DE_KN_residential3_grid_import  DE_KN_residential3_pv  \\\n",
       "0                            0.000000                    0.0   \n",
       "1                            0.000000                    0.0   \n",
       "2                            0.000000                    0.0   \n",
       "3                            0.000000                    0.0   \n",
       "4                            0.000000                    0.0   \n",
       "...                               ...                    ...   \n",
       "19879                        0.025754                    0.0   \n",
       "19880                        0.004856                    0.0   \n",
       "19881                        0.004455                    0.0   \n",
       "19882                        0.003644                    0.0   \n",
       "19883                        0.004550                    0.0   \n",
       "\n",
       "       DE_KN_residential3_refrigerator  DE_KN_residential3_washing_machine  \\\n",
       "0                             0.000000                            0.000000   \n",
       "1                             0.000000                            0.000000   \n",
       "2                             0.000000                            0.000000   \n",
       "3                             0.000000                            0.000000   \n",
       "4                             0.000000                            0.000000   \n",
       "...                                ...                                 ...   \n",
       "19879                         0.000492                            0.021523   \n",
       "19880                         0.000411                            0.000478   \n",
       "19881                         0.000000                            0.000218   \n",
       "19882                         0.000778                            0.000000   \n",
       "19883                         0.000050                            0.000000   \n",
       "\n",
       "       energy_consumption   start      end  step  \\\n",
       "0                0.002267       0       15    15   \n",
       "1                0.001250      15       75    60   \n",
       "2                0.002900      75       95    20   \n",
       "3                0.001277      95      160    65   \n",
       "4                0.002900     160      180    20   \n",
       "...                   ...     ...      ...   ...   \n",
       "19879            0.023246  999725   999790    65   \n",
       "19880            0.002122  999790   999880    90   \n",
       "19881            0.001400  999880   999935    55   \n",
       "19882            0.001933  999935   999980    45   \n",
       "19883            0.001300  999980  1000000    20   \n",
       "\n",
       "       DE_KN_residential3_circulation_pump_pred  \\\n",
       "0                                      0.001159   \n",
       "1                                      0.001126   \n",
       "2                                      0.001047   \n",
       "3                                      0.001029   \n",
       "4                                      0.001047   \n",
       "...                                         ...   \n",
       "19879                                  0.001151   \n",
       "19880                                  0.001091   \n",
       "19881                                  0.001033   \n",
       "19882                                  0.001050   \n",
       "19883                                  0.000958   \n",
       "\n",
       "       DE_KN_residential3_dishwasher_pred  DE_KN_residential3_freezer_pred  \\\n",
       "0                                0.000135                         0.000446   \n",
       "1                                0.000043                         0.000024   \n",
       "2                                0.000069                         0.001681   \n",
       "3                                0.000043                         0.000104   \n",
       "4                                0.000069                         0.001681   \n",
       "...                                   ...                              ...   \n",
       "19879                            0.000070                         0.000138   \n",
       "19880                            0.000067                         0.000050   \n",
       "19881                            0.000047                         0.000165   \n",
       "19882                            0.000051                         0.000146   \n",
       "19883                            0.000057                         0.000058   \n",
       "\n",
       "       DE_KN_residential3_refrigerator_pred  \\\n",
       "0                                  0.000369   \n",
       "1                                  0.000056   \n",
       "2                                  0.000063   \n",
       "3                                  0.000100   \n",
       "4                                  0.000063   \n",
       "...                                     ...   \n",
       "19879                              0.000469   \n",
       "19880                              0.000449   \n",
       "19881                              0.000124   \n",
       "19882                              0.000686   \n",
       "19883                              0.000189   \n",
       "\n",
       "       DE_KN_residential3_washing_machine_pred  \n",
       "0                                 1.570772e-04  \n",
       "1                                 6.281018e-07  \n",
       "2                                 4.143345e-05  \n",
       "3                                 1.541346e-06  \n",
       "4                                 4.143345e-05  \n",
       "...                                        ...  \n",
       "19879                             2.143325e-02  \n",
       "19880                             4.655941e-04  \n",
       "19881                             3.031235e-05  \n",
       "19882                             0.000000e+00  \n",
       "19883                             3.701366e-05  \n",
       "\n",
       "[19884 rows x 17 columns]"
      ]
     },
     "execution_count": 454,
     "metadata": {},
     "output_type": "execute_result"
    }
   ],
   "source": [
    "df3_modified"
   ]
  },
  {
   "cell_type": "code",
   "execution_count": 455,
   "metadata": {},
   "outputs": [
    {
     "data": {
      "text/plain": [
       "<AxesSubplot: >"
      ]
     },
     "execution_count": 455,
     "metadata": {},
     "output_type": "execute_result"
    },
    {
     "data": {
      "image/png": "[encoded data removed]",
      "text/plain": [
       "<Figure size 640x480 with 1 Axes>"
      ]
     },
     "metadata": {},
     "output_type": "display_data"
    }
   ],
   "source": [
    "df3_modified.loc[100:400, [\"DE_KN_residential3_washing_machine\", \"DE_KN_residential3_washing_machine_pred\"]].plot()"
   ]
  },
  {
   "cell_type": "code",
   "execution_count": 456,
   "metadata": {},
   "outputs": [
    {
     "data": {
      "text/plain": [
       "<AxesSubplot: >"
      ]
     },
     "execution_count": 456,
     "metadata": {},
     "output_type": "execute_result"
    },
    {
     "data": {
      "image/png": "[encoded data removed]",
      "text/plain": [
       "<Figure size 640x480 with 1 Axes>"
      ]
     },
     "metadata": {},
     "output_type": "display_data"
    }
   ],
   "source": [
    "df3_modified.loc[100:1000, [\"DE_KN_residential3_circulation_pump\", \"DE_KN_residential3_circulation_pump_pred\"]].plot()"
   ]
  },
  {
   "cell_type": "code",
   "execution_count": 457,
   "metadata": {},
   "outputs": [
    {
     "data": {
      "text/plain": [
       "<AxesSubplot: >"
      ]
     },
     "execution_count": 457,
     "metadata": {},
     "output_type": "execute_result"
    },
    {
     "data": {
      "image/png": "[encoded data removed]",
      "text/plain": [
       "<Figure size 640x480 with 1 Axes>"
      ]
     },
     "metadata": {},
     "output_type": "display_data"
    }
   ],
   "source": [
    "df3_modified.loc[200:400, [\"DE_KN_residential3_dishwasher\", \"DE_KN_residential3_dishwasher_pred\"]].plot()"
   ]
  },
  {
   "cell_type": "code",
   "execution_count": 458,
   "metadata": {},
   "outputs": [
    {
     "data": {
      "text/plain": [
       "<AxesSubplot: >"
      ]
     },
     "execution_count": 458,
     "metadata": {},
     "output_type": "execute_result"
    },
    {
     "data": {
      "image/png": "[encoded data removed]",
      "text/plain": [
       "<Figure size 640x480 with 1 Axes>"
      ]
     },
     "metadata": {},
     "output_type": "display_data"
    }
   ],
   "source": [
    "df3_modified.loc[200:1000, [\"DE_KN_residential3_freezer\", \"DE_KN_residential3_freezer_pred\"]].plot()"
   ]
  },
  {
   "cell_type": "code",
   "execution_count": 475,
   "metadata": {},
   "outputs": [
    {
     "data": {
      "text/plain": [
       "<AxesSubplot: >"
      ]
     },
     "execution_count": 475,
     "metadata": {},
     "output_type": "execute_result"
    },
    {
     "data": {
      "image/png": "[encoded data removed]",
      "text/plain": [
       "<Figure size 640x480 with 1 Axes>"
      ]
     },
     "metadata": {},
     "output_type": "display_data"
    }
   ],
   "source": [
    "df3_modified.loc[220:1000, [\"DE_KN_residential3_refrigerator\", \"DE_KN_residential3_refrigerator_pred\"]].plot()"
   ]
  },
  {
   "cell_type": "code",
   "execution_count": 460,
   "metadata": {},
   "outputs": [
    {
     "data": {
      "text/plain": [
       "(15889, 5)"
      ]
     },
     "execution_count": 460,
     "metadata": {},
     "output_type": "execute_result"
    }
   ],
   "source": [
    "y_train.shape"
   ]
  },
  {
   "cell_type": "code",
   "execution_count": 461,
   "metadata": {},
   "outputs": [
    {
     "data": {
      "text/plain": [
       "(15889, 5)"
      ]
     },
     "execution_count": 461,
     "metadata": {},
     "output_type": "execute_result"
    }
   ],
   "source": [
    "model.predict(X_train).shape"
   ]
  },
  {
   "cell_type": "code",
   "execution_count": 481,
   "metadata": {},
   "outputs": [
    {
     "name": "stdout",
     "output_type": "stream",
     "text": [
      "162185141.65271327\n",
      "0.5630693415495933\n",
      "0.7635099517146156\n",
      "67432152569.32408\n",
      "1.541418539562615\n",
      "0.8154332544891955\n",
      "203528778800.2323\n",
      "1.2103542878585258\n",
      "1.3369346823585533\n",
      "137423593662.71867\n",
      "0.9654571971766052\n",
      "1.6933934887329263\n",
      "396008401807.79\n",
      "1.2182536601202858\n",
      "0.5809029864683855\n"
     ]
    }
   ],
   "source": [
    "for i in range(0,5):\n",
    "    y_test_ = y_train[:, i]\n",
    "    pred_y_ = model.predict(X_train)[:, i]\n",
    "    print(mean_absolute_percentage_error(y_test_, pred_y_))\n",
    "    #mask = np.logical_and(~np.isclose(y_test_, np.zeros_like(y_test_)), (X_train[:, 0] > 1e-3))\n",
    "    mask = ~np.isclose(y_test_, np.zeros_like(y_test_))\n",
    "    print(mean_absolute_percentage_error(y_test_[mask], pred_y_[mask]))\n",
    "    print(np.sqrt(mean_squared_error(y_train[mask], model.predict(X_train)[mask]))/np.mean(model.predict(X_train)[:, i]))"
   ]
  },
  {
   "cell_type": "code",
   "execution_count": 480,
   "metadata": {},
   "outputs": [
    {
     "data": {
      "text/plain": [
       "(3973, 5)"
      ]
     },
     "execution_count": 480,
     "metadata": {},
     "output_type": "execute_result"
    }
   ],
   "source": [
    "pred_y.shape"
   ]
  },
  {
   "cell_type": "code",
   "execution_count": 477,
   "metadata": {},
   "outputs": [
    {
     "data": {
      "text/plain": [
       "160911022396.3406"
      ]
     },
     "execution_count": 477,
     "metadata": {},
     "output_type": "execute_result"
    }
   ],
   "source": [
    "mean_absolute_percentage_error(y_train, model.predict(X_train)) "
   ]
  },
  {
   "cell_type": "code",
   "execution_count": null,
   "metadata": {},
   "outputs": [],
   "source": []
  },
  {
   "cell_type": "code",
   "execution_count": 465,
   "metadata": {},
   "outputs": [],
   "source": [
    "#mask = np.logical_and(~np.isclose(y_test, np.zeros_like(y_test)), np.vstack(((X_test[:, 0] < 1e-3), (X_test[:, 0] < 1e-3))).T)\n",
    "mask = ~np.isclose(y_train, np.zeros_like(y_train))"
   ]
  },
  {
   "cell_type": "code",
   "execution_count": 466,
   "metadata": {},
   "outputs": [
    {
     "data": {
      "text/plain": [
       "array([[ True,  True,  True,  True,  True],\n",
       "       [ True,  True, False,  True,  True],\n",
       "       [ True,  True, False, False, False],\n",
       "       ...,\n",
       "       [ True,  True,  True,  True, False],\n",
       "       [ True,  True,  True,  True, False],\n",
       "       [ True,  True,  True,  True, False]])"
      ]
     },
     "execution_count": 466,
     "metadata": {},
     "output_type": "execute_result"
    }
   ],
   "source": [
    "mask"
   ]
  },
  {
   "cell_type": "code",
   "execution_count": 543,
   "metadata": {},
   "outputs": [
    {
     "name": "stdout",
     "output_type": "stream",
     "text": [
      "0.4237508973457\n"
     ]
    }
   ],
   "source": [
    "mean_absolute_percentage_error(y_train[mask], model.predict(X_train)[mask])"
   ]
  },
  {
   "cell_type": "code",
   "execution_count": null,
   "metadata": {},
   "outputs": [],
   "source": [
    "y_test[mask]"
   ]
  },
  {
   "cell_type": "code",
   "execution_count": null,
   "metadata": {},
   "outputs": [],
   "source": [
    "pred_y[mask]"
   ]
  },
  {
   "cell_type": "code",
   "execution_count": 470,
   "metadata": {},
   "outputs": [
    {
     "data": {
      "text/plain": [
       "0.0005980899177954576"
      ]
     },
     "execution_count": 470,
     "metadata": {},
     "output_type": "execute_result"
    }
   ],
   "source": [
    "np.sqrt(mean_squared_error(y_test, pred_y))"
   ]
  },
  {
   "cell_type": "code",
   "execution_count": 471,
   "metadata": {},
   "outputs": [
    {
     "data": {
      "text/plain": [
       "2.5e-05"
      ]
     },
     "execution_count": 471,
     "metadata": {},
     "output_type": "execute_result"
    }
   ],
   "source": [
    "0.005**2"
   ]
  },
  {
   "cell_type": "code",
   "execution_count": 482,
   "metadata": {},
   "outputs": [
    {
     "data": {
      "text/html": [
       "<div>\n",
       "<style scoped>\n",
       "    .dataframe tbody tr th:only-of-type {\n",
       "        vertical-align: middle;\n",
       "    }\n",
       "\n",
       "    .dataframe tbody tr th {\n",
       "        vertical-align: top;\n",
       "    }\n",
       "\n",
       "    .dataframe thead th {\n",
       "        text-align: right;\n",
       "    }\n",
       "</style>\n",
       "<table border=\"1\" class=\"dataframe\">\n",
       "  <thead>\n",
       "    <tr style=\"text-align: right;\">\n",
       "      <th></th>\n",
       "      <th>DE_KN_residential3_circulation_pump</th>\n",
       "      <th>DE_KN_residential3_dishwasher</th>\n",
       "      <th>DE_KN_residential3_freezer</th>\n",
       "      <th>DE_KN_residential3_grid_export</th>\n",
       "      <th>DE_KN_residential3_grid_import</th>\n",
       "      <th>DE_KN_residential3_pv</th>\n",
       "      <th>DE_KN_residential3_refrigerator</th>\n",
       "      <th>DE_KN_residential3_washing_machine</th>\n",
       "      <th>energy_consumption</th>\n",
       "      <th>start</th>\n",
       "      <th>end</th>\n",
       "      <th>step</th>\n",
       "      <th>DE_KN_residential3_circulation_pump_pred</th>\n",
       "      <th>DE_KN_residential3_dishwasher_pred</th>\n",
       "      <th>DE_KN_residential3_freezer_pred</th>\n",
       "      <th>DE_KN_residential3_refrigerator_pred</th>\n",
       "      <th>DE_KN_residential3_washing_machine_pred</th>\n",
       "    </tr>\n",
       "  </thead>\n",
       "  <tbody>\n",
       "    <tr>\n",
       "      <th>0</th>\n",
       "      <td>0.000800</td>\n",
       "      <td>0.000067</td>\n",
       "      <td>0.001400</td>\n",
       "      <td>0.0</td>\n",
       "      <td>0.000000</td>\n",
       "      <td>0.0</td>\n",
       "      <td>0.000000</td>\n",
       "      <td>0.000000</td>\n",
       "      <td>0.002267</td>\n",
       "      <td>0</td>\n",
       "      <td>15</td>\n",
       "      <td>15</td>\n",
       "      <td>0.001159</td>\n",
       "      <td>0.000135</td>\n",
       "      <td>0.000446</td>\n",
       "      <td>0.000369</td>\n",
       "      <td>1.570772e-04</td>\n",
       "    </tr>\n",
       "    <tr>\n",
       "      <th>1</th>\n",
       "      <td>0.001133</td>\n",
       "      <td>0.000033</td>\n",
       "      <td>0.000083</td>\n",
       "      <td>0.0</td>\n",
       "      <td>0.000000</td>\n",
       "      <td>0.0</td>\n",
       "      <td>0.000000</td>\n",
       "      <td>0.000000</td>\n",
       "      <td>0.001250</td>\n",
       "      <td>15</td>\n",
       "      <td>75</td>\n",
       "      <td>60</td>\n",
       "      <td>0.001126</td>\n",
       "      <td>0.000043</td>\n",
       "      <td>0.000024</td>\n",
       "      <td>0.000056</td>\n",
       "      <td>6.281018e-07</td>\n",
       "    </tr>\n",
       "    <tr>\n",
       "      <th>2</th>\n",
       "      <td>0.001150</td>\n",
       "      <td>0.000050</td>\n",
       "      <td>0.001700</td>\n",
       "      <td>0.0</td>\n",
       "      <td>0.000000</td>\n",
       "      <td>0.0</td>\n",
       "      <td>0.000000</td>\n",
       "      <td>0.000000</td>\n",
       "      <td>0.002900</td>\n",
       "      <td>75</td>\n",
       "      <td>95</td>\n",
       "      <td>20</td>\n",
       "      <td>0.001047</td>\n",
       "      <td>0.000069</td>\n",
       "      <td>0.001681</td>\n",
       "      <td>0.000063</td>\n",
       "      <td>4.143345e-05</td>\n",
       "    </tr>\n",
       "    <tr>\n",
       "      <th>3</th>\n",
       "      <td>0.001154</td>\n",
       "      <td>0.000046</td>\n",
       "      <td>0.000077</td>\n",
       "      <td>0.0</td>\n",
       "      <td>0.000000</td>\n",
       "      <td>0.0</td>\n",
       "      <td>0.000000</td>\n",
       "      <td>0.000000</td>\n",
       "      <td>0.001277</td>\n",
       "      <td>95</td>\n",
       "      <td>160</td>\n",
       "      <td>65</td>\n",
       "      <td>0.001029</td>\n",
       "      <td>0.000043</td>\n",
       "      <td>0.000104</td>\n",
       "      <td>0.000100</td>\n",
       "      <td>1.541346e-06</td>\n",
       "    </tr>\n",
       "    <tr>\n",
       "      <th>4</th>\n",
       "      <td>0.001100</td>\n",
       "      <td>0.000050</td>\n",
       "      <td>0.001750</td>\n",
       "      <td>0.0</td>\n",
       "      <td>0.000000</td>\n",
       "      <td>0.0</td>\n",
       "      <td>0.000000</td>\n",
       "      <td>0.000000</td>\n",
       "      <td>0.002900</td>\n",
       "      <td>160</td>\n",
       "      <td>180</td>\n",
       "      <td>20</td>\n",
       "      <td>0.001047</td>\n",
       "      <td>0.000069</td>\n",
       "      <td>0.001681</td>\n",
       "      <td>0.000063</td>\n",
       "      <td>4.143345e-05</td>\n",
       "    </tr>\n",
       "    <tr>\n",
       "      <th>...</th>\n",
       "      <td>...</td>\n",
       "      <td>...</td>\n",
       "      <td>...</td>\n",
       "      <td>...</td>\n",
       "      <td>...</td>\n",
       "      <td>...</td>\n",
       "      <td>...</td>\n",
       "      <td>...</td>\n",
       "      <td>...</td>\n",
       "      <td>...</td>\n",
       "      <td>...</td>\n",
       "      <td>...</td>\n",
       "      <td>...</td>\n",
       "      <td>...</td>\n",
       "      <td>...</td>\n",
       "      <td>...</td>\n",
       "      <td>...</td>\n",
       "    </tr>\n",
       "    <tr>\n",
       "      <th>19879</th>\n",
       "      <td>0.001154</td>\n",
       "      <td>0.000077</td>\n",
       "      <td>0.000000</td>\n",
       "      <td>0.0</td>\n",
       "      <td>0.025754</td>\n",
       "      <td>0.0</td>\n",
       "      <td>0.000492</td>\n",
       "      <td>0.021523</td>\n",
       "      <td>0.023246</td>\n",
       "      <td>999725</td>\n",
       "      <td>999790</td>\n",
       "      <td>65</td>\n",
       "      <td>0.001151</td>\n",
       "      <td>0.000070</td>\n",
       "      <td>0.000138</td>\n",
       "      <td>0.000469</td>\n",
       "      <td>2.143325e-02</td>\n",
       "    </tr>\n",
       "    <tr>\n",
       "      <th>19880</th>\n",
       "      <td>0.001144</td>\n",
       "      <td>0.000089</td>\n",
       "      <td>0.000000</td>\n",
       "      <td>0.0</td>\n",
       "      <td>0.004856</td>\n",
       "      <td>0.0</td>\n",
       "      <td>0.000411</td>\n",
       "      <td>0.000478</td>\n",
       "      <td>0.002122</td>\n",
       "      <td>999790</td>\n",
       "      <td>999880</td>\n",
       "      <td>90</td>\n",
       "      <td>0.001091</td>\n",
       "      <td>0.000067</td>\n",
       "      <td>0.000050</td>\n",
       "      <td>0.000449</td>\n",
       "      <td>4.655941e-04</td>\n",
       "    </tr>\n",
       "    <tr>\n",
       "      <th>19881</th>\n",
       "      <td>0.001091</td>\n",
       "      <td>0.000091</td>\n",
       "      <td>0.000000</td>\n",
       "      <td>0.0</td>\n",
       "      <td>0.004455</td>\n",
       "      <td>0.0</td>\n",
       "      <td>0.000000</td>\n",
       "      <td>0.000218</td>\n",
       "      <td>0.001400</td>\n",
       "      <td>999880</td>\n",
       "      <td>999935</td>\n",
       "      <td>55</td>\n",
       "      <td>0.001033</td>\n",
       "      <td>0.000047</td>\n",
       "      <td>0.000165</td>\n",
       "      <td>0.000124</td>\n",
       "      <td>3.031235e-05</td>\n",
       "    </tr>\n",
       "    <tr>\n",
       "      <th>19882</th>\n",
       "      <td>0.001089</td>\n",
       "      <td>0.000067</td>\n",
       "      <td>0.000000</td>\n",
       "      <td>0.0</td>\n",
       "      <td>0.003644</td>\n",
       "      <td>0.0</td>\n",
       "      <td>0.000778</td>\n",
       "      <td>0.000000</td>\n",
       "      <td>0.001933</td>\n",
       "      <td>999935</td>\n",
       "      <td>999980</td>\n",
       "      <td>45</td>\n",
       "      <td>0.001050</td>\n",
       "      <td>0.000051</td>\n",
       "      <td>0.000146</td>\n",
       "      <td>0.000686</td>\n",
       "      <td>0.000000e+00</td>\n",
       "    </tr>\n",
       "    <tr>\n",
       "      <th>19883</th>\n",
       "      <td>0.001150</td>\n",
       "      <td>0.000100</td>\n",
       "      <td>0.000000</td>\n",
       "      <td>0.0</td>\n",
       "      <td>0.004550</td>\n",
       "      <td>0.0</td>\n",
       "      <td>0.000050</td>\n",
       "      <td>0.000000</td>\n",
       "      <td>0.001300</td>\n",
       "      <td>999980</td>\n",
       "      <td>1000000</td>\n",
       "      <td>20</td>\n",
       "      <td>0.000958</td>\n",
       "      <td>0.000057</td>\n",
       "      <td>0.000058</td>\n",
       "      <td>0.000189</td>\n",
       "      <td>3.701366e-05</td>\n",
       "    </tr>\n",
       "  </tbody>\n",
       "</table>\n",
       "<p>19884 rows × 17 columns</p>\n",
       "</div>"
      ],
      "text/plain": [
       "       DE_KN_residential3_circulation_pump  DE_KN_residential3_dishwasher  \\\n",
       "0                                 0.000800                       0.000067   \n",
       "1                                 0.001133                       0.000033   \n",
       "2                                 0.001150                       0.000050   \n",
       "3                                 0.001154                       0.000046   \n",
       "4                                 0.001100                       0.000050   \n",
       "...                                    ...                            ...   \n",
       "19879                             0.001154                       0.000077   \n",
       "19880                             0.001144                       0.000089   \n",
       "19881                             0.001091                       0.000091   \n",
       "19882                             0.001089                       0.000067   \n",
       "19883                             0.001150                       0.000100   \n",
       "\n",
       "       DE_KN_residential3_freezer  DE_KN_residential3_grid_export  \\\n",
       "0                        0.001400                             0.0   \n",
       "1                        0.000083                             0.0   \n",
       "2                        0.001700                             0.0   \n",
       "3                        0.000077                             0.0   \n",
       "4                        0.001750                             0.0   \n",
       "...                           ...                             ...   \n",
       "19879                    0.000000                             0.0   \n",
       "19880                    0.000000                             0.0   \n",
       "19881                    0.000000                             0.0   \n",
       "19882                    0.000000                             0.0   \n",
       "19883                    0.000000                             0.0   \n",
       "\n",
       "       DE_KN_residential3_grid_import  DE_KN_residential3_pv  \\\n",
       "0                            0.000000                    0.0   \n",
       "1                            0.000000                    0.0   \n",
       "2                            0.000000                    0.0   \n",
       "3                            0.000000                    0.0   \n",
       "4                            0.000000                    0.0   \n",
       "...                               ...                    ...   \n",
       "19879                        0.025754                    0.0   \n",
       "19880                        0.004856                    0.0   \n",
       "19881                        0.004455                    0.0   \n",
       "19882                        0.003644                    0.0   \n",
       "19883                        0.004550                    0.0   \n",
       "\n",
       "       DE_KN_residential3_refrigerator  DE_KN_residential3_washing_machine  \\\n",
       "0                             0.000000                            0.000000   \n",
       "1                             0.000000                            0.000000   \n",
       "2                             0.000000                            0.000000   \n",
       "3                             0.000000                            0.000000   \n",
       "4                             0.000000                            0.000000   \n",
       "...                                ...                                 ...   \n",
       "19879                         0.000492                            0.021523   \n",
       "19880                         0.000411                            0.000478   \n",
       "19881                         0.000000                            0.000218   \n",
       "19882                         0.000778                            0.000000   \n",
       "19883                         0.000050                            0.000000   \n",
       "\n",
       "       energy_consumption   start      end  step  \\\n",
       "0                0.002267       0       15    15   \n",
       "1                0.001250      15       75    60   \n",
       "2                0.002900      75       95    20   \n",
       "3                0.001277      95      160    65   \n",
       "4                0.002900     160      180    20   \n",
       "...                   ...     ...      ...   ...   \n",
       "19879            0.023246  999725   999790    65   \n",
       "19880            0.002122  999790   999880    90   \n",
       "19881            0.001400  999880   999935    55   \n",
       "19882            0.001933  999935   999980    45   \n",
       "19883            0.001300  999980  1000000    20   \n",
       "\n",
       "       DE_KN_residential3_circulation_pump_pred  \\\n",
       "0                                      0.001159   \n",
       "1                                      0.001126   \n",
       "2                                      0.001047   \n",
       "3                                      0.001029   \n",
       "4                                      0.001047   \n",
       "...                                         ...   \n",
       "19879                                  0.001151   \n",
       "19880                                  0.001091   \n",
       "19881                                  0.001033   \n",
       "19882                                  0.001050   \n",
       "19883                                  0.000958   \n",
       "\n",
       "       DE_KN_residential3_dishwasher_pred  DE_KN_residential3_freezer_pred  \\\n",
       "0                                0.000135                         0.000446   \n",
       "1                                0.000043                         0.000024   \n",
       "2                                0.000069                         0.001681   \n",
       "3                                0.000043                         0.000104   \n",
       "4                                0.000069                         0.001681   \n",
       "...                                   ...                              ...   \n",
       "19879                            0.000070                         0.000138   \n",
       "19880                            0.000067                         0.000050   \n",
       "19881                            0.000047                         0.000165   \n",
       "19882                            0.000051                         0.000146   \n",
       "19883                            0.000057                         0.000058   \n",
       "\n",
       "       DE_KN_residential3_refrigerator_pred  \\\n",
       "0                                  0.000369   \n",
       "1                                  0.000056   \n",
       "2                                  0.000063   \n",
       "3                                  0.000100   \n",
       "4                                  0.000063   \n",
       "...                                     ...   \n",
       "19879                              0.000469   \n",
       "19880                              0.000449   \n",
       "19881                              0.000124   \n",
       "19882                              0.000686   \n",
       "19883                              0.000189   \n",
       "\n",
       "       DE_KN_residential3_washing_machine_pred  \n",
       "0                                 1.570772e-04  \n",
       "1                                 6.281018e-07  \n",
       "2                                 4.143345e-05  \n",
       "3                                 1.541346e-06  \n",
       "4                                 4.143345e-05  \n",
       "...                                        ...  \n",
       "19879                             2.143325e-02  \n",
       "19880                             4.655941e-04  \n",
       "19881                             3.031235e-05  \n",
       "19882                             0.000000e+00  \n",
       "19883                             3.701366e-05  \n",
       "\n",
       "[19884 rows x 17 columns]"
      ]
     },
     "execution_count": 482,
     "metadata": {},
     "output_type": "execute_result"
    }
   ],
   "source": [
    "df3_modified"
   ]
  },
  {
   "cell_type": "code",
   "execution_count": 497,
   "metadata": {},
   "outputs": [],
   "source": [
    "df3_modified = df3_modified.assign(cstep=lambda x: x[\"step\"].cumsum())"
   ]
  },
  {
   "cell_type": "code",
   "execution_count": 516,
   "metadata": {},
   "outputs": [],
   "source": [
    "d = df3_modified.set_index(pd.TimedeltaIndex(data=df3_modified[\"cstep\"], unit=\"minutes\")).resample(\"H\").sum()"
   ]
  },
  {
   "cell_type": "code",
   "execution_count": 574,
   "metadata": {},
   "outputs": [],
   "source": [
    "d.to_pickle(\"dataset.pickle\")"
   ]
  },
  {
   "cell_type": "code",
   "execution_count": 534,
   "metadata": {},
   "outputs": [],
   "source": [
    "cols = ['DE_KN_residential3_circulation_pump', 'DE_KN_residential3_dishwasher',\n",
    "       'DE_KN_residential3_freezer',\n",
    "       'DE_KN_residential3_refrigerator', 'DE_KN_residential3_washing_machine']\n",
    "cols_pred = [\n",
    "    'DE_KN_residential3_circulation_pump_pred',\n",
    "       'DE_KN_residential3_dishwasher_pred', 'DE_KN_residential3_freezer_pred',\n",
    "       'DE_KN_residential3_refrigerator_pred',\n",
    "       'DE_KN_residential3_washing_machine_pred'\n",
    "        ]"
   ]
  },
  {
   "cell_type": "code",
   "execution_count": 578,
   "metadata": {},
   "outputs": [],
   "source": [
    "d_prep = d.drop(columns=['energy_consumption', 'start', 'end', 'step', 'cstep']).resample(\"D\").sum()\n",
    "def piechart(i, pred):\n",
    "    if pred:\n",
    "        data = d_prep[cols_pred].iloc[i]\n",
    "        fig = px.pie(pd.DataFrame({\"names\": ['Pompa cyrkulacyjna', 'Zmywarka', 'Zamrażarka', 'Lodówka', 'Pralka'], \"values\": data.values}), values='values', names='names')\n",
    "        return fig\n",
    "    else:\n",
    "        data = d_prep[cols].iloc[i]\n",
    "        fig = px.pie(pd.DataFrame({\"names\": ['Pompa cyrkulacyjna', 'Zmywarka', 'Zamrażarka', 'Lodówka', 'Pralka'], \"values\": data.values}), values='values', names='names')\n",
    "        return fig"
   ]
  },
  {
   "cell_type": "code",
   "execution_count": 586,
   "metadata": {},
   "outputs": [],
   "source": [
    "def barplot(i, pred):\n",
    "    if pred:\n",
    "        data = d_prep[cols_pred].iloc[i]\n",
    "        fig = px.bar(pd.DataFrame({\"names\": ['Pompa cyrkulacyjna', 'Zmywarka', 'Zamrażarka', 'Lodówka', 'Pralka'], \"values\": data.values}), x='values', y='names', title=\"Zużycie energi w [kWh]\", labels={'values':'Energia w kWh', 'names': \"Urządzenie\"})\n",
    "        return fig\n",
    "    else:\n",
    "        data = d_prep[cols].iloc[i]\n",
    "        fig = px.bar(pd.DataFrame({\"names\": ['Pompa cyrkulacyjna', 'Zmywarka', 'Zamrażarka', 'Lodówka', 'Pralka'], \"values\": data.values}), x='values', y='names', title=\"Zużycie energi w [kWh]\", labels={'values':'Energia w kWh', 'names': \"Urządzenie\"})\n",
    "        return fig"
   ]
  },
  {
   "cell_type": "code",
   "execution_count": 587,
   "metadata": {},
   "outputs": [
    {
     "data": {
      "application/vnd.plotly.v1+json": {
       "config": {
        "plotlyServerURL": "https://plot.ly"
       },
       "data": [
        {
         "domain": {
          "x": [
           0,
           1
          ],
          "y": [
           0,
           1
          ]
         },
         "hovertemplate": "label=%{label}<br>value=%{value}<extra></extra>",
         "labels": [
          "Pompa cyrkulacyjna",
          "Zmywarka",
          "Zamrażarka",
          "Lodówka",
          "Pralka"
         ],
         "legendgroup": "",
         "name": "",
         "showlegend": true,
         "type": "pie",
         "values": [
          0.029167292324534102,
          0.017565844325351115,
          0.017580831423639396,
          0.008096123080532067,
          6.896551723974849e-06
         ]
        }
       ],
       "layout": {
        "autosize": true,
        "legend": {
         "tracegroupgap": 0
        },
        "margin": {
         "t": 60
        },
        "template": {
         "data": {
          "bar": [
           {
            "error_x": {
             "color": "#2a3f5f"
            },
            "error_y": {
             "color": "#2a3f5f"
            },
            "marker": {
             "line": {
              "color": "#E5ECF6",
              "width": 0.5
             },
             "pattern": {
              "fillmode": "overlay",
              "size": 10,
              "solidity": 0.2
             }
            },
            "type": "bar"
           }
          ],
          "barpolar": [
           {
            "marker": {
             "line": {
              "color": "#E5ECF6",
              "width": 0.5
             },
             "pattern": {
              "fillmode": "overlay",
              "size": 10,
              "solidity": 0.2
             }
            },
            "type": "barpolar"
           }
          ],
          "carpet": [
           {
            "aaxis": {
             "endlinecolor": "#2a3f5f",
             "gridcolor": "white",
             "linecolor": "white",
             "minorgridcolor": "white",
             "startlinecolor": "#2a3f5f"
            },
            "baxis": {
             "endlinecolor": "#2a3f5f",
             "gridcolor": "white",
             "linecolor": "white",
             "minorgridcolor": "white",
             "startlinecolor": "#2a3f5f"
            },
            "type": "carpet"
           }
          ],
          "choropleth": [
           {
            "colorbar": {
             "outlinewidth": 0,
             "ticks": ""
            },
            "type": "choropleth"
           }
          ],
          "contour": [
           {
            "colorbar": {
             "outlinewidth": 0,
             "ticks": ""
            },
            "colorscale": [
             [
              0,
              "#0d0887"
             ],
             [
              0.1111111111111111,
              "#46039f"
             ],
             [
              0.2222222222222222,
              "#7201a8"
             ],
             [
              0.3333333333333333,
              "#9c179e"
             ],
             [
              0.4444444444444444,
              "#bd3786"
             ],
             [
              0.5555555555555556,
              "#d8576b"
             ],
             [
              0.6666666666666666,
              "#ed7953"
             ],
             [
              0.7777777777777778,
              "#fb9f3a"
             ],
             [
              0.8888888888888888,
              "#fdca26"
             ],
             [
              1,
              "#f0f921"
             ]
            ],
            "type": "contour"
           }
          ],
          "contourcarpet": [
           {
            "colorbar": {
             "outlinewidth": 0,
             "ticks": ""
            },
            "type": "contourcarpet"
           }
          ],
          "heatmap": [
           {
            "colorbar": {
             "outlinewidth": 0,
             "ticks": ""
            },
            "colorscale": [
             [
              0,
              "#0d0887"
             ],
             [
              0.1111111111111111,
              "#46039f"
             ],
             [
              0.2222222222222222,
              "#7201a8"
             ],
             [
              0.3333333333333333,
              "#9c179e"
             ],
             [
              0.4444444444444444,
              "#bd3786"
             ],
             [
              0.5555555555555556,
              "#d8576b"
             ],
             [
              0.6666666666666666,
              "#ed7953"
             ],
             [
              0.7777777777777778,
              "#fb9f3a"
             ],
             [
              0.8888888888888888,
              "#fdca26"
             ],
             [
              1,
              "#f0f921"
             ]
            ],
            "type": "heatmap"
           }
          ],
          "heatmapgl": [
           {
            "colorbar": {
             "outlinewidth": 0,
             "ticks": ""
            },
            "colorscale": [
             [
              0,
              "#0d0887"
             ],
             [
              0.1111111111111111,
              "#46039f"
             ],
             [
              0.2222222222222222,
              "#7201a8"
             ],
             [
              0.3333333333333333,
              "#9c179e"
             ],
             [
              0.4444444444444444,
              "#bd3786"
             ],
             [
              0.5555555555555556,
              "#d8576b"
             ],
             [
              0.6666666666666666,
              "#ed7953"
             ],
             [
              0.7777777777777778,
              "#fb9f3a"
             ],
             [
              0.8888888888888888,
              "#fdca26"
             ],
             [
              1,
              "#f0f921"
             ]
            ],
            "type": "heatmapgl"
           }
          ],
          "histogram": [
           {
            "marker": {
             "pattern": {
              "fillmode": "overlay",
              "size": 10,
              "solidity": 0.2
             }
            },
            "type": "histogram"
           }
          ],
          "histogram2d": [
           {
            "colorbar": {
             "outlinewidth": 0,
             "ticks": ""
            },
            "colorscale": [
             [
              0,
              "#0d0887"
             ],
             [
              0.1111111111111111,
              "#46039f"
             ],
             [
              0.2222222222222222,
              "#7201a8"
             ],
             [
              0.3333333333333333,
              "#9c179e"
             ],
             [
              0.4444444444444444,
              "#bd3786"
             ],
             [
              0.5555555555555556,
              "#d8576b"
             ],
             [
              0.6666666666666666,
              "#ed7953"
             ],
             [
              0.7777777777777778,
              "#fb9f3a"
             ],
             [
              0.8888888888888888,
              "#fdca26"
             ],
             [
              1,
              "#f0f921"
             ]
            ],
            "type": "histogram2d"
           }
          ],
          "histogram2dcontour": [
           {
            "colorbar": {
             "outlinewidth": 0,
             "ticks": ""
            },
            "colorscale": [
             [
              0,
              "#0d0887"
             ],
             [
              0.1111111111111111,
              "#46039f"
             ],
             [
              0.2222222222222222,
              "#7201a8"
             ],
             [
              0.3333333333333333,
              "#9c179e"
             ],
             [
              0.4444444444444444,
              "#bd3786"
             ],
             [
              0.5555555555555556,
              "#d8576b"
             ],
             [
              0.6666666666666666,
              "#ed7953"
             ],
             [
              0.7777777777777778,
              "#fb9f3a"
             ],
             [
              0.8888888888888888,
              "#fdca26"
             ],
             [
              1,
              "#f0f921"
             ]
            ],
            "type": "histogram2dcontour"
           }
          ],
          "mesh3d": [
           {
            "colorbar": {
             "outlinewidth": 0,
             "ticks": ""
            },
            "type": "mesh3d"
           }
          ],
          "parcoords": [
           {
            "line": {
             "colorbar": {
              "outlinewidth": 0,
              "ticks": ""
             }
            },
            "type": "parcoords"
           }
          ],
          "pie": [
           {
            "automargin": true,
            "type": "pie"
           }
          ],
          "scatter": [
           {
            "fillpattern": {
             "fillmode": "overlay",
             "size": 10,
             "solidity": 0.2
            },
            "type": "scatter"
           }
          ],
          "scatter3d": [
           {
            "line": {
             "colorbar": {
              "outlinewidth": 0,
              "ticks": ""
             }
            },
            "marker": {
             "colorbar": {
              "outlinewidth": 0,
              "ticks": ""
             }
            },
            "type": "scatter3d"
           }
          ],
          "scattercarpet": [
           {
            "marker": {
             "colorbar": {
              "outlinewidth": 0,
              "ticks": ""
             }
            },
            "type": "scattercarpet"
           }
          ],
          "scattergeo": [
           {
            "marker": {
             "colorbar": {
              "outlinewidth": 0,
              "ticks": ""
             }
            },
            "type": "scattergeo"
           }
          ],
          "scattergl": [
           {
            "marker": {
             "colorbar": {
              "outlinewidth": 0,
              "ticks": ""
             }
            },
            "type": "scattergl"
           }
          ],
          "scattermapbox": [
           {
            "marker": {
             "colorbar": {
              "outlinewidth": 0,
              "ticks": ""
             }
            },
            "type": "scattermapbox"
           }
          ],
          "scatterpolar": [
           {
            "marker": {
             "colorbar": {
              "outlinewidth": 0,
              "ticks": ""
             }
            },
            "type": "scatterpolar"
           }
          ],
          "scatterpolargl": [
           {
            "marker": {
             "colorbar": {
              "outlinewidth": 0,
              "ticks": ""
             }
            },
            "type": "scatterpolargl"
           }
          ],
          "scatterternary": [
           {
            "marker": {
             "colorbar": {
              "outlinewidth": 0,
              "ticks": ""
             }
            },
            "type": "scatterternary"
           }
          ],
          "surface": [
           {
            "colorbar": {
             "outlinewidth": 0,
             "ticks": ""
            },
            "colorscale": [
             [
              0,
              "#0d0887"
             ],
             [
              0.1111111111111111,
              "#46039f"
             ],
             [
              0.2222222222222222,
              "#7201a8"
             ],
             [
              0.3333333333333333,
              "#9c179e"
             ],
             [
              0.4444444444444444,
              "#bd3786"
             ],
             [
              0.5555555555555556,
              "#d8576b"
             ],
             [
              0.6666666666666666,
              "#ed7953"
             ],
             [
              0.7777777777777778,
              "#fb9f3a"
             ],
             [
              0.8888888888888888,
              "#fdca26"
             ],
             [
              1,
              "#f0f921"
             ]
            ],
            "type": "surface"
           }
          ],
          "table": [
           {
            "cells": {
             "fill": {
              "color": "#EBF0F8"
             },
             "line": {
              "color": "white"
             }
            },
            "header": {
             "fill": {
              "color": "#C8D4E3"
             },
             "line": {
              "color": "white"
             }
            },
            "type": "table"
           }
          ]
         },
         "layout": {
          "annotationdefaults": {
           "arrowcolor": "#2a3f5f",
           "arrowhead": 0,
           "arrowwidth": 1
          },
          "autotypenumbers": "strict",
          "coloraxis": {
           "colorbar": {
            "outlinewidth": 0,
            "ticks": ""
           }
          },
          "colorscale": {
           "diverging": [
            [
             0,
             "#8e0152"
            ],
            [
             0.1,
             "#c51b7d"
            ],
            [
             0.2,
             "#de77ae"
            ],
            [
             0.3,
             "#f1b6da"
            ],
            [
             0.4,
             "#fde0ef"
            ],
            [
             0.5,
             "#f7f7f7"
            ],
            [
             0.6,
             "#e6f5d0"
            ],
            [
             0.7,
             "#b8e186"
            ],
            [
             0.8,
             "#7fbc41"
            ],
            [
             0.9,
             "#4d9221"
            ],
            [
             1,
             "#276419"
            ]
           ],
           "sequential": [
            [
             0,
             "#0d0887"
            ],
            [
             0.1111111111111111,
             "#46039f"
            ],
            [
             0.2222222222222222,
             "#7201a8"
            ],
            [
             0.3333333333333333,
             "#9c179e"
            ],
            [
             0.4444444444444444,
             "#bd3786"
            ],
            [
             0.5555555555555556,
             "#d8576b"
            ],
            [
             0.6666666666666666,
             "#ed7953"
            ],
            [
             0.7777777777777778,
             "#fb9f3a"
            ],
            [
             0.8888888888888888,
             "#fdca26"
            ],
            [
             1,
             "#f0f921"
            ]
           ],
           "sequentialminus": [
            [
             0,
             "#0d0887"
            ],
            [
             0.1111111111111111,
             "#46039f"
            ],
            [
             0.2222222222222222,
             "#7201a8"
            ],
            [
             0.3333333333333333,
             "#9c179e"
            ],
            [
             0.4444444444444444,
             "#bd3786"
            ],
            [
             0.5555555555555556,
             "#d8576b"
            ],
            [
             0.6666666666666666,
             "#ed7953"
            ],
            [
             0.7777777777777778,
             "#fb9f3a"
            ],
            [
             0.8888888888888888,
             "#fdca26"
            ],
            [
             1,
             "#f0f921"
            ]
           ]
          },
          "colorway": [
           "#636efa",
           "#EF553B",
           "#00cc96",
           "#ab63fa",
           "#FFA15A",
           "#19d3f3",
           "#FF6692",
           "#B6E880",
           "#FF97FF",
           "#FECB52"
          ],
          "font": {
           "color": "#2a3f5f"
          },
          "geo": {
           "bgcolor": "white",
           "lakecolor": "white",
           "landcolor": "#E5ECF6",
           "showlakes": true,
           "showland": true,
           "subunitcolor": "white"
          },
          "hoverlabel": {
           "align": "left"
          },
          "hovermode": "closest",
          "mapbox": {
           "style": "light"
          },
          "paper_bgcolor": "white",
          "plot_bgcolor": "#E5ECF6",
          "polar": {
           "angularaxis": {
            "gridcolor": "white",
            "linecolor": "white",
            "ticks": ""
           },
           "bgcolor": "#E5ECF6",
           "radialaxis": {
            "gridcolor": "white",
            "linecolor": "white",
            "ticks": ""
           }
          },
          "scene": {
           "xaxis": {
            "backgroundcolor": "#E5ECF6",
            "gridcolor": "white",
            "gridwidth": 2,
            "linecolor": "white",
            "showbackground": true,
            "ticks": "",
            "zerolinecolor": "white"
           },
           "yaxis": {
            "backgroundcolor": "#E5ECF6",
            "gridcolor": "white",
            "gridwidth": 2,
            "linecolor": "white",
            "showbackground": true,
            "ticks": "",
            "zerolinecolor": "white"
           },
           "zaxis": {
            "backgroundcolor": "#E5ECF6",
            "gridcolor": "white",
            "gridwidth": 2,
            "linecolor": "white",
            "showbackground": true,
            "ticks": "",
            "zerolinecolor": "white"
           }
          },
          "shapedefaults": {
           "line": {
            "color": "#2a3f5f"
           }
          },
          "ternary": {
           "aaxis": {
            "gridcolor": "white",
            "linecolor": "white",
            "ticks": ""
           },
           "baxis": {
            "gridcolor": "white",
            "linecolor": "white",
            "ticks": ""
           },
           "bgcolor": "#E5ECF6",
           "caxis": {
            "gridcolor": "white",
            "linecolor": "white",
            "ticks": ""
           }
          },
          "title": {
           "x": 0.05
          },
          "xaxis": {
           "automargin": true,
           "gridcolor": "white",
           "linecolor": "white",
           "ticks": "",
           "title": {
            "standoff": 15
           },
           "zerolinecolor": "white",
           "zerolinewidth": 2
          },
          "yaxis": {
           "automargin": true,
           "gridcolor": "white",
           "linecolor": "white",
           "ticks": "",
           "title": {
            "standoff": 15
           },
           "zerolinecolor": "white",
           "zerolinewidth": 2
          }
         }
        }
       }
      },
      "image/png": "[encoded data removed]",
      "text/html": [
       "<div>                            <div id=\"fa34357f-7a01-4c14-a027-07de4e9bb7bb\" class=\"plotly-graph-div\" style=\"height:525px; width:100%;\"></div>            <script type=\"text/javascript\">                require([\"plotly\"], function(Plotly) {                    window.PLOTLYENV=window.PLOTLYENV || {};                                    if (document.getElementById(\"fa34357f-7a01-4c14-a027-07de4e9bb7bb\")) {                    Plotly.newPlot(                        \"fa34357f-7a01-4c14-a027-07de4e9bb7bb\",                        [{\"domain\":{\"x\":[0.0,1.0],\"y\":[0.0,1.0]},\"hovertemplate\":\"label=%{label}<br>value=%{value}<extra></extra>\",\"labels\":[\"Pompa cyrkulacyjna\",\"Zmywarka\",\"Zamra\\u017carka\",\"Lod\\u00f3wka\",\"Pralka\"],\"legendgroup\":\"\",\"name\":\"\",\"showlegend\":true,\"values\":[0.029167292324534102,0.017565844325351115,0.017580831423639396,0.008096123080532067,6.896551723974849e-06],\"type\":\"pie\"}],                        {\"template\":{\"data\":{\"histogram2dcontour\":[{\"type\":\"histogram2dcontour\",\"colorbar\":{\"outlinewidth\":0,\"ticks\":\"\"},\"colorscale\":[[0.0,\"#0d0887\"],[0.1111111111111111,\"#46039f\"],[0.2222222222222222,\"#7201a8\"],[0.3333333333333333,\"#9c179e\"],[0.4444444444444444,\"#bd3786\"],[0.5555555555555556,\"#d8576b\"],[0.6666666666666666,\"#ed7953\"],[0.7777777777777778,\"#fb9f3a\"],[0.8888888888888888,\"#fdca26\"],[1.0,\"#f0f921\"]]}],\"choropleth\":[{\"type\":\"choropleth\",\"colorbar\":{\"outlinewidth\":0,\"ticks\":\"\"}}],\"histogram2d\":[{\"type\":\"histogram2d\",\"colorbar\":{\"outlinewidth\":0,\"ticks\":\"\"},\"colorscale\":[[0.0,\"#0d0887\"],[0.1111111111111111,\"#46039f\"],[0.2222222222222222,\"#7201a8\"],[0.3333333333333333,\"#9c179e\"],[0.4444444444444444,\"#bd3786\"],[0.5555555555555556,\"#d8576b\"],[0.6666666666666666,\"#ed7953\"],[0.7777777777777778,\"#fb9f3a\"],[0.8888888888888888,\"#fdca26\"],[1.0,\"#f0f921\"]]}],\"heatmap\":[{\"type\":\"heatmap\",\"colorbar\":{\"outlinewidth\":0,\"ticks\":\"\"},\"colorscale\":[[0.0,\"#0d0887\"],[0.1111111111111111,\"#46039f\"],[0.2222222222222222,\"#7201a8\"],[0.3333333333333333,\"#9c179e\"],[0.4444444444444444,\"#bd3786\"],[0.5555555555555556,\"#d8576b\"],[0.6666666666666666,\"#ed7953\"],[0.7777777777777778,\"#fb9f3a\"],[0.8888888888888888,\"#fdca26\"],[1.0,\"#f0f921\"]]}],\"heatmapgl\":[{\"type\":\"heatmapgl\",\"colorbar\":{\"outlinewidth\":0,\"ticks\":\"\"},\"colorscale\":[[0.0,\"#0d0887\"],[0.1111111111111111,\"#46039f\"],[0.2222222222222222,\"#7201a8\"],[0.3333333333333333,\"#9c179e\"],[0.4444444444444444,\"#bd3786\"],[0.5555555555555556,\"#d8576b\"],[0.6666666666666666,\"#ed7953\"],[0.7777777777777778,\"#fb9f3a\"],[0.8888888888888888,\"#fdca26\"],[1.0,\"#f0f921\"]]}],\"contourcarpet\":[{\"type\":\"contourcarpet\",\"colorbar\":{\"outlinewidth\":0,\"ticks\":\"\"}}],\"contour\":[{\"type\":\"contour\",\"colorbar\":{\"outlinewidth\":0,\"ticks\":\"\"},\"colorscale\":[[0.0,\"#0d0887\"],[0.1111111111111111,\"#46039f\"],[0.2222222222222222,\"#7201a8\"],[0.3333333333333333,\"#9c179e\"],[0.4444444444444444,\"#bd3786\"],[0.5555555555555556,\"#d8576b\"],[0.6666666666666666,\"#ed7953\"],[0.7777777777777778,\"#fb9f3a\"],[0.8888888888888888,\"#fdca26\"],[1.0,\"#f0f921\"]]}],\"surface\":[{\"type\":\"surface\",\"colorbar\":{\"outlinewidth\":0,\"ticks\":\"\"},\"colorscale\":[[0.0,\"#0d0887\"],[0.1111111111111111,\"#46039f\"],[0.2222222222222222,\"#7201a8\"],[0.3333333333333333,\"#9c179e\"],[0.4444444444444444,\"#bd3786\"],[0.5555555555555556,\"#d8576b\"],[0.6666666666666666,\"#ed7953\"],[0.7777777777777778,\"#fb9f3a\"],[0.8888888888888888,\"#fdca26\"],[1.0,\"#f0f921\"]]}],\"mesh3d\":[{\"type\":\"mesh3d\",\"colorbar\":{\"outlinewidth\":0,\"ticks\":\"\"}}],\"scatter\":[{\"fillpattern\":{\"fillmode\":\"overlay\",\"size\":10,\"solidity\":0.2},\"type\":\"scatter\"}],\"parcoords\":[{\"type\":\"parcoords\",\"line\":{\"colorbar\":{\"outlinewidth\":0,\"ticks\":\"\"}}}],\"scatterpolargl\":[{\"type\":\"scatterpolargl\",\"marker\":{\"colorbar\":{\"outlinewidth\":0,\"ticks\":\"\"}}}],\"bar\":[{\"error_x\":{\"color\":\"#2a3f5f\"},\"error_y\":{\"color\":\"#2a3f5f\"},\"marker\":{\"line\":{\"color\":\"#E5ECF6\",\"width\":0.5},\"pattern\":{\"fillmode\":\"overlay\",\"size\":10,\"solidity\":0.2}},\"type\":\"bar\"}],\"scattergeo\":[{\"type\":\"scattergeo\",\"marker\":{\"colorbar\":{\"outlinewidth\":0,\"ticks\":\"\"}}}],\"scatterpolar\":[{\"type\":\"scatterpolar\",\"marker\":{\"colorbar\":{\"outlinewidth\":0,\"ticks\":\"\"}}}],\"histogram\":[{\"marker\":{\"pattern\":{\"fillmode\":\"overlay\",\"size\":10,\"solidity\":0.2}},\"type\":\"histogram\"}],\"scattergl\":[{\"type\":\"scattergl\",\"marker\":{\"colorbar\":{\"outlinewidth\":0,\"ticks\":\"\"}}}],\"scatter3d\":[{\"type\":\"scatter3d\",\"line\":{\"colorbar\":{\"outlinewidth\":0,\"ticks\":\"\"}},\"marker\":{\"colorbar\":{\"outlinewidth\":0,\"ticks\":\"\"}}}],\"scattermapbox\":[{\"type\":\"scattermapbox\",\"marker\":{\"colorbar\":{\"outlinewidth\":0,\"ticks\":\"\"}}}],\"scatterternary\":[{\"type\":\"scatterternary\",\"marker\":{\"colorbar\":{\"outlinewidth\":0,\"ticks\":\"\"}}}],\"scattercarpet\":[{\"type\":\"scattercarpet\",\"marker\":{\"colorbar\":{\"outlinewidth\":0,\"ticks\":\"\"}}}],\"carpet\":[{\"aaxis\":{\"endlinecolor\":\"#2a3f5f\",\"gridcolor\":\"white\",\"linecolor\":\"white\",\"minorgridcolor\":\"white\",\"startlinecolor\":\"#2a3f5f\"},\"baxis\":{\"endlinecolor\":\"#2a3f5f\",\"gridcolor\":\"white\",\"linecolor\":\"white\",\"minorgridcolor\":\"white\",\"startlinecolor\":\"#2a3f5f\"},\"type\":\"carpet\"}],\"table\":[{\"cells\":{\"fill\":{\"color\":\"#EBF0F8\"},\"line\":{\"color\":\"white\"}},\"header\":{\"fill\":{\"color\":\"#C8D4E3\"},\"line\":{\"color\":\"white\"}},\"type\":\"table\"}],\"barpolar\":[{\"marker\":{\"line\":{\"color\":\"#E5ECF6\",\"width\":0.5},\"pattern\":{\"fillmode\":\"overlay\",\"size\":10,\"solidity\":0.2}},\"type\":\"barpolar\"}],\"pie\":[{\"automargin\":true,\"type\":\"pie\"}]},\"layout\":{\"autotypenumbers\":\"strict\",\"colorway\":[\"#636efa\",\"#EF553B\",\"#00cc96\",\"#ab63fa\",\"#FFA15A\",\"#19d3f3\",\"#FF6692\",\"#B6E880\",\"#FF97FF\",\"#FECB52\"],\"font\":{\"color\":\"#2a3f5f\"},\"hovermode\":\"closest\",\"hoverlabel\":{\"align\":\"left\"},\"paper_bgcolor\":\"white\",\"plot_bgcolor\":\"#E5ECF6\",\"polar\":{\"bgcolor\":\"#E5ECF6\",\"angularaxis\":{\"gridcolor\":\"white\",\"linecolor\":\"white\",\"ticks\":\"\"},\"radialaxis\":{\"gridcolor\":\"white\",\"linecolor\":\"white\",\"ticks\":\"\"}},\"ternary\":{\"bgcolor\":\"#E5ECF6\",\"aaxis\":{\"gridcolor\":\"white\",\"linecolor\":\"white\",\"ticks\":\"\"},\"baxis\":{\"gridcolor\":\"white\",\"linecolor\":\"white\",\"ticks\":\"\"},\"caxis\":{\"gridcolor\":\"white\",\"linecolor\":\"white\",\"ticks\":\"\"}},\"coloraxis\":{\"colorbar\":{\"outlinewidth\":0,\"ticks\":\"\"}},\"colorscale\":{\"sequential\":[[0.0,\"#0d0887\"],[0.1111111111111111,\"#46039f\"],[0.2222222222222222,\"#7201a8\"],[0.3333333333333333,\"#9c179e\"],[0.4444444444444444,\"#bd3786\"],[0.5555555555555556,\"#d8576b\"],[0.6666666666666666,\"#ed7953\"],[0.7777777777777778,\"#fb9f3a\"],[0.8888888888888888,\"#fdca26\"],[1.0,\"#f0f921\"]],\"sequentialminus\":[[0.0,\"#0d0887\"],[0.1111111111111111,\"#46039f\"],[0.2222222222222222,\"#7201a8\"],[0.3333333333333333,\"#9c179e\"],[0.4444444444444444,\"#bd3786\"],[0.5555555555555556,\"#d8576b\"],[0.6666666666666666,\"#ed7953\"],[0.7777777777777778,\"#fb9f3a\"],[0.8888888888888888,\"#fdca26\"],[1.0,\"#f0f921\"]],\"diverging\":[[0,\"#8e0152\"],[0.1,\"#c51b7d\"],[0.2,\"#de77ae\"],[0.3,\"#f1b6da\"],[0.4,\"#fde0ef\"],[0.5,\"#f7f7f7\"],[0.6,\"#e6f5d0\"],[0.7,\"#b8e186\"],[0.8,\"#7fbc41\"],[0.9,\"#4d9221\"],[1,\"#276419\"]]},\"xaxis\":{\"gridcolor\":\"white\",\"linecolor\":\"white\",\"ticks\":\"\",\"title\":{\"standoff\":15},\"zerolinecolor\":\"white\",\"automargin\":true,\"zerolinewidth\":2},\"yaxis\":{\"gridcolor\":\"white\",\"linecolor\":\"white\",\"ticks\":\"\",\"title\":{\"standoff\":15},\"zerolinecolor\":\"white\",\"automargin\":true,\"zerolinewidth\":2},\"scene\":{\"xaxis\":{\"backgroundcolor\":\"#E5ECF6\",\"gridcolor\":\"white\",\"linecolor\":\"white\",\"showbackground\":true,\"ticks\":\"\",\"zerolinecolor\":\"white\",\"gridwidth\":2},\"yaxis\":{\"backgroundcolor\":\"#E5ECF6\",\"gridcolor\":\"white\",\"linecolor\":\"white\",\"showbackground\":true,\"ticks\":\"\",\"zerolinecolor\":\"white\",\"gridwidth\":2},\"zaxis\":{\"backgroundcolor\":\"#E5ECF6\",\"gridcolor\":\"white\",\"linecolor\":\"white\",\"showbackground\":true,\"ticks\":\"\",\"zerolinecolor\":\"white\",\"gridwidth\":2}},\"shapedefaults\":{\"line\":{\"color\":\"#2a3f5f\"}},\"annotationdefaults\":{\"arrowcolor\":\"#2a3f5f\",\"arrowhead\":0,\"arrowwidth\":1},\"geo\":{\"bgcolor\":\"white\",\"landcolor\":\"#E5ECF6\",\"subunitcolor\":\"white\",\"showland\":true,\"showlakes\":true,\"lakecolor\":\"white\"},\"title\":{\"x\":0.05},\"mapbox\":{\"style\":\"light\"}}},\"legend\":{\"tracegroupgap\":0},\"margin\":{\"t\":60}},                        {\"responsive\": true}                    ).then(function(){\n",
       "                            \n",
       "var gd = document.getElementById('fa34357f-7a01-4c14-a027-07de4e9bb7bb');\n",
       "var x = new MutationObserver(function (mutations, observer) {{\n",
       "        var display = window.getComputedStyle(gd).display;\n",
       "        if (!display || display === 'none') {{\n",
       "            console.log([gd, 'removed!']);\n",
       "            Plotly.purge(gd);\n",
       "            observer.disconnect();\n",
       "        }}\n",
       "}});\n",
       "\n",
       "// Listen for the removal of the full notebook cells\n",
       "var notebookContainer = gd.closest('#notebook-container');\n",
       "if (notebookContainer) {{\n",
       "    x.observe(notebookContainer, {childList: true});\n",
       "}}\n",
       "\n",
       "// Listen for the clearing of the current output cell\n",
       "var outputEl = gd.closest('.output');\n",
       "if (outputEl) {{\n",
       "    x.observe(outputEl, {childList: true});\n",
       "}}\n",
       "\n",
       "                        })                };                });            </script>        </div>"
      ]
     },
     "metadata": {},
     "output_type": "display_data"
    }
   ],
   "source": [
    "piechart(100, False)"
   ]
  },
  {
   "cell_type": "code",
   "execution_count": 588,
   "metadata": {},
   "outputs": [
    {
     "data": {
      "application/vnd.plotly.v1+json": {
       "config": {
        "plotlyServerURL": "https://plot.ly"
       },
       "data": [
        {
         "alignmentgroup": "True",
         "hovertemplate": "Energia w kWh=%{x}<br>Urządzenie=%{y}<extra></extra>",
         "legendgroup": "",
         "marker": {
          "color": "#636efa",
          "pattern": {
           "shape": ""
          }
         },
         "name": "",
         "offsetgroup": "",
         "orientation": "h",
         "showlegend": false,
         "textposition": "auto",
         "type": "bar",
         "x": [
          0.026789268455319176,
          0.01756020255936616,
          0.016903332557597874,
          0.008742331471004151,
          0.0024195587246961044
         ],
         "xaxis": "x",
         "y": [
          "Pompa cyrkulacyjna",
          "Zmywarka",
          "Zamrażarka",
          "Lodówka",
          "Pralka"
         ],
         "yaxis": "y"
        }
       ],
       "layout": {
        "autosize": true,
        "barmode": "relative",
        "legend": {
         "tracegroupgap": 0
        },
        "template": {
         "data": {
          "bar": [
           {
            "error_x": {
             "color": "#2a3f5f"
            },
            "error_y": {
             "color": "#2a3f5f"
            },
            "marker": {
             "line": {
              "color": "#E5ECF6",
              "width": 0.5
             },
             "pattern": {
              "fillmode": "overlay",
              "size": 10,
              "solidity": 0.2
             }
            },
            "type": "bar"
           }
          ],
          "barpolar": [
           {
            "marker": {
             "line": {
              "color": "#E5ECF6",
              "width": 0.5
             },
             "pattern": {
              "fillmode": "overlay",
              "size": 10,
              "solidity": 0.2
             }
            },
            "type": "barpolar"
           }
          ],
          "carpet": [
           {
            "aaxis": {
             "endlinecolor": "#2a3f5f",
             "gridcolor": "white",
             "linecolor": "white",
             "minorgridcolor": "white",
             "startlinecolor": "#2a3f5f"
            },
            "baxis": {
             "endlinecolor": "#2a3f5f",
             "gridcolor": "white",
             "linecolor": "white",
             "minorgridcolor": "white",
             "startlinecolor": "#2a3f5f"
            },
            "type": "carpet"
           }
          ],
          "choropleth": [
           {
            "colorbar": {
             "outlinewidth": 0,
             "ticks": ""
            },
            "type": "choropleth"
           }
          ],
          "contour": [
           {
            "colorbar": {
             "outlinewidth": 0,
             "ticks": ""
            },
            "colorscale": [
             [
              0,
              "#0d0887"
             ],
             [
              0.1111111111111111,
              "#46039f"
             ],
             [
              0.2222222222222222,
              "#7201a8"
             ],
             [
              0.3333333333333333,
              "#9c179e"
             ],
             [
              0.4444444444444444,
              "#bd3786"
             ],
             [
              0.5555555555555556,
              "#d8576b"
             ],
             [
              0.6666666666666666,
              "#ed7953"
             ],
             [
              0.7777777777777778,
              "#fb9f3a"
             ],
             [
              0.8888888888888888,
              "#fdca26"
             ],
             [
              1,
              "#f0f921"
             ]
            ],
            "type": "contour"
           }
          ],
          "contourcarpet": [
           {
            "colorbar": {
             "outlinewidth": 0,
             "ticks": ""
            },
            "type": "contourcarpet"
           }
          ],
          "heatmap": [
           {
            "colorbar": {
             "outlinewidth": 0,
             "ticks": ""
            },
            "colorscale": [
             [
              0,
              "#0d0887"
             ],
             [
              0.1111111111111111,
              "#46039f"
             ],
             [
              0.2222222222222222,
              "#7201a8"
             ],
             [
              0.3333333333333333,
              "#9c179e"
             ],
             [
              0.4444444444444444,
              "#bd3786"
             ],
             [
              0.5555555555555556,
              "#d8576b"
             ],
             [
              0.6666666666666666,
              "#ed7953"
             ],
             [
              0.7777777777777778,
              "#fb9f3a"
             ],
             [
              0.8888888888888888,
              "#fdca26"
             ],
             [
              1,
              "#f0f921"
             ]
            ],
            "type": "heatmap"
           }
          ],
          "heatmapgl": [
           {
            "colorbar": {
             "outlinewidth": 0,
             "ticks": ""
            },
            "colorscale": [
             [
              0,
              "#0d0887"
             ],
             [
              0.1111111111111111,
              "#46039f"
             ],
             [
              0.2222222222222222,
              "#7201a8"
             ],
             [
              0.3333333333333333,
              "#9c179e"
             ],
             [
              0.4444444444444444,
              "#bd3786"
             ],
             [
              0.5555555555555556,
              "#d8576b"
             ],
             [
              0.6666666666666666,
              "#ed7953"
             ],
             [
              0.7777777777777778,
              "#fb9f3a"
             ],
             [
              0.8888888888888888,
              "#fdca26"
             ],
             [
              1,
              "#f0f921"
             ]
            ],
            "type": "heatmapgl"
           }
          ],
          "histogram": [
           {
            "marker": {
             "pattern": {
              "fillmode": "overlay",
              "size": 10,
              "solidity": 0.2
             }
            },
            "type": "histogram"
           }
          ],
          "histogram2d": [
           {
            "colorbar": {
             "outlinewidth": 0,
             "ticks": ""
            },
            "colorscale": [
             [
              0,
              "#0d0887"
             ],
             [
              0.1111111111111111,
              "#46039f"
             ],
             [
              0.2222222222222222,
              "#7201a8"
             ],
             [
              0.3333333333333333,
              "#9c179e"
             ],
             [
              0.4444444444444444,
              "#bd3786"
             ],
             [
              0.5555555555555556,
              "#d8576b"
             ],
             [
              0.6666666666666666,
              "#ed7953"
             ],
             [
              0.7777777777777778,
              "#fb9f3a"
             ],
             [
              0.8888888888888888,
              "#fdca26"
             ],
             [
              1,
              "#f0f921"
             ]
            ],
            "type": "histogram2d"
           }
          ],
          "histogram2dcontour": [
           {
            "colorbar": {
             "outlinewidth": 0,
             "ticks": ""
            },
            "colorscale": [
             [
              0,
              "#0d0887"
             ],
             [
              0.1111111111111111,
              "#46039f"
             ],
             [
              0.2222222222222222,
              "#7201a8"
             ],
             [
              0.3333333333333333,
              "#9c179e"
             ],
             [
              0.4444444444444444,
              "#bd3786"
             ],
             [
              0.5555555555555556,
              "#d8576b"
             ],
             [
              0.6666666666666666,
              "#ed7953"
             ],
             [
              0.7777777777777778,
              "#fb9f3a"
             ],
             [
              0.8888888888888888,
              "#fdca26"
             ],
             [
              1,
              "#f0f921"
             ]
            ],
            "type": "histogram2dcontour"
           }
          ],
          "mesh3d": [
           {
            "colorbar": {
             "outlinewidth": 0,
             "ticks": ""
            },
            "type": "mesh3d"
           }
          ],
          "parcoords": [
           {
            "line": {
             "colorbar": {
              "outlinewidth": 0,
              "ticks": ""
             }
            },
            "type": "parcoords"
           }
          ],
          "pie": [
           {
            "automargin": true,
            "type": "pie"
           }
          ],
          "scatter": [
           {
            "fillpattern": {
             "fillmode": "overlay",
             "size": 10,
             "solidity": 0.2
            },
            "type": "scatter"
           }
          ],
          "scatter3d": [
           {
            "line": {
             "colorbar": {
              "outlinewidth": 0,
              "ticks": ""
             }
            },
            "marker": {
             "colorbar": {
              "outlinewidth": 0,
              "ticks": ""
             }
            },
            "type": "scatter3d"
           }
          ],
          "scattercarpet": [
           {
            "marker": {
             "colorbar": {
              "outlinewidth": 0,
              "ticks": ""
             }
            },
            "type": "scattercarpet"
           }
          ],
          "scattergeo": [
           {
            "marker": {
             "colorbar": {
              "outlinewidth": 0,
              "ticks": ""
             }
            },
            "type": "scattergeo"
           }
          ],
          "scattergl": [
           {
            "marker": {
             "colorbar": {
              "outlinewidth": 0,
              "ticks": ""
             }
            },
            "type": "scattergl"
           }
          ],
          "scattermapbox": [
           {
            "marker": {
             "colorbar": {
              "outlinewidth": 0,
              "ticks": ""
             }
            },
            "type": "scattermapbox"
           }
          ],
          "scatterpolar": [
           {
            "marker": {
             "colorbar": {
              "outlinewidth": 0,
              "ticks": ""
             }
            },
            "type": "scatterpolar"
           }
          ],
          "scatterpolargl": [
           {
            "marker": {
             "colorbar": {
              "outlinewidth": 0,
              "ticks": ""
             }
            },
            "type": "scatterpolargl"
           }
          ],
          "scatterternary": [
           {
            "marker": {
             "colorbar": {
              "outlinewidth": 0,
              "ticks": ""
             }
            },
            "type": "scatterternary"
           }
          ],
          "surface": [
           {
            "colorbar": {
             "outlinewidth": 0,
             "ticks": ""
            },
            "colorscale": [
             [
              0,
              "#0d0887"
             ],
             [
              0.1111111111111111,
              "#46039f"
             ],
             [
              0.2222222222222222,
              "#7201a8"
             ],
             [
              0.3333333333333333,
              "#9c179e"
             ],
             [
              0.4444444444444444,
              "#bd3786"
             ],
             [
              0.5555555555555556,
              "#d8576b"
             ],
             [
              0.6666666666666666,
              "#ed7953"
             ],
             [
              0.7777777777777778,
              "#fb9f3a"
             ],
             [
              0.8888888888888888,
              "#fdca26"
             ],
             [
              1,
              "#f0f921"
             ]
            ],
            "type": "surface"
           }
          ],
          "table": [
           {
            "cells": {
             "fill": {
              "color": "#EBF0F8"
             },
             "line": {
              "color": "white"
             }
            },
            "header": {
             "fill": {
              "color": "#C8D4E3"
             },
             "line": {
              "color": "white"
             }
            },
            "type": "table"
           }
          ]
         },
         "layout": {
          "annotationdefaults": {
           "arrowcolor": "#2a3f5f",
           "arrowhead": 0,
           "arrowwidth": 1
          },
          "autotypenumbers": "strict",
          "coloraxis": {
           "colorbar": {
            "outlinewidth": 0,
            "ticks": ""
           }
          },
          "colorscale": {
           "diverging": [
            [
             0,
             "#8e0152"
            ],
            [
             0.1,
             "#c51b7d"
            ],
            [
             0.2,
             "#de77ae"
            ],
            [
             0.3,
             "#f1b6da"
            ],
            [
             0.4,
             "#fde0ef"
            ],
            [
             0.5,
             "#f7f7f7"
            ],
            [
             0.6,
             "#e6f5d0"
            ],
            [
             0.7,
             "#b8e186"
            ],
            [
             0.8,
             "#7fbc41"
            ],
            [
             0.9,
             "#4d9221"
            ],
            [
             1,
             "#276419"
            ]
           ],
           "sequential": [
            [
             0,
             "#0d0887"
            ],
            [
             0.1111111111111111,
             "#46039f"
            ],
            [
             0.2222222222222222,
             "#7201a8"
            ],
            [
             0.3333333333333333,
             "#9c179e"
            ],
            [
             0.4444444444444444,
             "#bd3786"
            ],
            [
             0.5555555555555556,
             "#d8576b"
            ],
            [
             0.6666666666666666,
             "#ed7953"
            ],
            [
             0.7777777777777778,
             "#fb9f3a"
            ],
            [
             0.8888888888888888,
             "#fdca26"
            ],
            [
             1,
             "#f0f921"
            ]
           ],
           "sequentialminus": [
            [
             0,
             "#0d0887"
            ],
            [
             0.1111111111111111,
             "#46039f"
            ],
            [
             0.2222222222222222,
             "#7201a8"
            ],
            [
             0.3333333333333333,
             "#9c179e"
            ],
            [
             0.4444444444444444,
             "#bd3786"
            ],
            [
             0.5555555555555556,
             "#d8576b"
            ],
            [
             0.6666666666666666,
             "#ed7953"
            ],
            [
             0.7777777777777778,
             "#fb9f3a"
            ],
            [
             0.8888888888888888,
             "#fdca26"
            ],
            [
             1,
             "#f0f921"
            ]
           ]
          },
          "colorway": [
           "#636efa",
           "#EF553B",
           "#00cc96",
           "#ab63fa",
           "#FFA15A",
           "#19d3f3",
           "#FF6692",
           "#B6E880",
           "#FF97FF",
           "#FECB52"
          ],
          "font": {
           "color": "#2a3f5f"
          },
          "geo": {
           "bgcolor": "white",
           "lakecolor": "white",
           "landcolor": "#E5ECF6",
           "showlakes": true,
           "showland": true,
           "subunitcolor": "white"
          },
          "hoverlabel": {
           "align": "left"
          },
          "hovermode": "closest",
          "mapbox": {
           "style": "light"
          },
          "paper_bgcolor": "white",
          "plot_bgcolor": "#E5ECF6",
          "polar": {
           "angularaxis": {
            "gridcolor": "white",
            "linecolor": "white",
            "ticks": ""
           },
           "bgcolor": "#E5ECF6",
           "radialaxis": {
            "gridcolor": "white",
            "linecolor": "white",
            "ticks": ""
           }
          },
          "scene": {
           "xaxis": {
            "backgroundcolor": "#E5ECF6",
            "gridcolor": "white",
            "gridwidth": 2,
            "linecolor": "white",
            "showbackground": true,
            "ticks": "",
            "zerolinecolor": "white"
           },
           "yaxis": {
            "backgroundcolor": "#E5ECF6",
            "gridcolor": "white",
            "gridwidth": 2,
            "linecolor": "white",
            "showbackground": true,
            "ticks": "",
            "zerolinecolor": "white"
           },
           "zaxis": {
            "backgroundcolor": "#E5ECF6",
            "gridcolor": "white",
            "gridwidth": 2,
            "linecolor": "white",
            "showbackground": true,
            "ticks": "",
            "zerolinecolor": "white"
           }
          },
          "shapedefaults": {
           "line": {
            "color": "#2a3f5f"
           }
          },
          "ternary": {
           "aaxis": {
            "gridcolor": "white",
            "linecolor": "white",
            "ticks": ""
           },
           "baxis": {
            "gridcolor": "white",
            "linecolor": "white",
            "ticks": ""
           },
           "bgcolor": "#E5ECF6",
           "caxis": {
            "gridcolor": "white",
            "linecolor": "white",
            "ticks": ""
           }
          },
          "title": {
           "x": 0.05
          },
          "xaxis": {
           "automargin": true,
           "gridcolor": "white",
           "linecolor": "white",
           "ticks": "",
           "title": {
            "standoff": 15
           },
           "zerolinecolor": "white",
           "zerolinewidth": 2
          },
          "yaxis": {
           "automargin": true,
           "gridcolor": "white",
           "linecolor": "white",
           "ticks": "",
           "title": {
            "standoff": 15
           },
           "zerolinecolor": "white",
           "zerolinewidth": 2
          }
         }
        },
        "title": {
         "text": "Zużycie energi w [kWh]"
        },
        "xaxis": {
         "anchor": "y",
         "autorange": true,
         "domain": [
          0,
          1
         ],
         "range": [
          0,
          0.028199229952967555
         ],
         "title": {
          "text": "Energia w kWh"
         },
         "type": "linear"
        },
        "yaxis": {
         "anchor": "x",
         "autorange": true,
         "domain": [
          0,
          1
         ],
         "range": [
          -0.5,
          4.5
         ],
         "title": {
          "text": "Urządzenie"
         },
         "type": "category"
        }
       }
      },
      "image/png": "[encoded data removed]",
      "text/html": [
       "<div>                            <div id=\"04ec2f13-efc8-4f78-b805-dbde750efdca\" class=\"plotly-graph-div\" style=\"height:525px; width:100%;\"></div>            <script type=\"text/javascript\">                require([\"plotly\"], function(Plotly) {                    window.PLOTLYENV=window.PLOTLYENV || {};                                    if (document.getElementById(\"04ec2f13-efc8-4f78-b805-dbde750efdca\")) {                    Plotly.newPlot(                        \"04ec2f13-efc8-4f78-b805-dbde750efdca\",                        [{\"alignmentgroup\":\"True\",\"hovertemplate\":\"Energia w kWh=%{x}<br>Urz\\u0105dzenie=%{y}<extra></extra>\",\"legendgroup\":\"\",\"marker\":{\"color\":\"#636efa\",\"pattern\":{\"shape\":\"\"}},\"name\":\"\",\"offsetgroup\":\"\",\"orientation\":\"h\",\"showlegend\":false,\"textposition\":\"auto\",\"x\":[0.026789268455319176,0.01756020255936616,0.016903332557597874,0.008742331471004151,0.0024195587246961044],\"xaxis\":\"x\",\"y\":[\"Pompa cyrkulacyjna\",\"Zmywarka\",\"Zamra\\u017carka\",\"Lod\\u00f3wka\",\"Pralka\"],\"yaxis\":\"y\",\"type\":\"bar\"}],                        {\"template\":{\"data\":{\"histogram2dcontour\":[{\"type\":\"histogram2dcontour\",\"colorbar\":{\"outlinewidth\":0,\"ticks\":\"\"},\"colorscale\":[[0.0,\"#0d0887\"],[0.1111111111111111,\"#46039f\"],[0.2222222222222222,\"#7201a8\"],[0.3333333333333333,\"#9c179e\"],[0.4444444444444444,\"#bd3786\"],[0.5555555555555556,\"#d8576b\"],[0.6666666666666666,\"#ed7953\"],[0.7777777777777778,\"#fb9f3a\"],[0.8888888888888888,\"#fdca26\"],[1.0,\"#f0f921\"]]}],\"choropleth\":[{\"type\":\"choropleth\",\"colorbar\":{\"outlinewidth\":0,\"ticks\":\"\"}}],\"histogram2d\":[{\"type\":\"histogram2d\",\"colorbar\":{\"outlinewidth\":0,\"ticks\":\"\"},\"colorscale\":[[0.0,\"#0d0887\"],[0.1111111111111111,\"#46039f\"],[0.2222222222222222,\"#7201a8\"],[0.3333333333333333,\"#9c179e\"],[0.4444444444444444,\"#bd3786\"],[0.5555555555555556,\"#d8576b\"],[0.6666666666666666,\"#ed7953\"],[0.7777777777777778,\"#fb9f3a\"],[0.8888888888888888,\"#fdca26\"],[1.0,\"#f0f921\"]]}],\"heatmap\":[{\"type\":\"heatmap\",\"colorbar\":{\"outlinewidth\":0,\"ticks\":\"\"},\"colorscale\":[[0.0,\"#0d0887\"],[0.1111111111111111,\"#46039f\"],[0.2222222222222222,\"#7201a8\"],[0.3333333333333333,\"#9c179e\"],[0.4444444444444444,\"#bd3786\"],[0.5555555555555556,\"#d8576b\"],[0.6666666666666666,\"#ed7953\"],[0.7777777777777778,\"#fb9f3a\"],[0.8888888888888888,\"#fdca26\"],[1.0,\"#f0f921\"]]}],\"heatmapgl\":[{\"type\":\"heatmapgl\",\"colorbar\":{\"outlinewidth\":0,\"ticks\":\"\"},\"colorscale\":[[0.0,\"#0d0887\"],[0.1111111111111111,\"#46039f\"],[0.2222222222222222,\"#7201a8\"],[0.3333333333333333,\"#9c179e\"],[0.4444444444444444,\"#bd3786\"],[0.5555555555555556,\"#d8576b\"],[0.6666666666666666,\"#ed7953\"],[0.7777777777777778,\"#fb9f3a\"],[0.8888888888888888,\"#fdca26\"],[1.0,\"#f0f921\"]]}],\"contourcarpet\":[{\"type\":\"contourcarpet\",\"colorbar\":{\"outlinewidth\":0,\"ticks\":\"\"}}],\"contour\":[{\"type\":\"contour\",\"colorbar\":{\"outlinewidth\":0,\"ticks\":\"\"},\"colorscale\":[[0.0,\"#0d0887\"],[0.1111111111111111,\"#46039f\"],[0.2222222222222222,\"#7201a8\"],[0.3333333333333333,\"#9c179e\"],[0.4444444444444444,\"#bd3786\"],[0.5555555555555556,\"#d8576b\"],[0.6666666666666666,\"#ed7953\"],[0.7777777777777778,\"#fb9f3a\"],[0.8888888888888888,\"#fdca26\"],[1.0,\"#f0f921\"]]}],\"surface\":[{\"type\":\"surface\",\"colorbar\":{\"outlinewidth\":0,\"ticks\":\"\"},\"colorscale\":[[0.0,\"#0d0887\"],[0.1111111111111111,\"#46039f\"],[0.2222222222222222,\"#7201a8\"],[0.3333333333333333,\"#9c179e\"],[0.4444444444444444,\"#bd3786\"],[0.5555555555555556,\"#d8576b\"],[0.6666666666666666,\"#ed7953\"],[0.7777777777777778,\"#fb9f3a\"],[0.8888888888888888,\"#fdca26\"],[1.0,\"#f0f921\"]]}],\"mesh3d\":[{\"type\":\"mesh3d\",\"colorbar\":{\"outlinewidth\":0,\"ticks\":\"\"}}],\"scatter\":[{\"fillpattern\":{\"fillmode\":\"overlay\",\"size\":10,\"solidity\":0.2},\"type\":\"scatter\"}],\"parcoords\":[{\"type\":\"parcoords\",\"line\":{\"colorbar\":{\"outlinewidth\":0,\"ticks\":\"\"}}}],\"scatterpolargl\":[{\"type\":\"scatterpolargl\",\"marker\":{\"colorbar\":{\"outlinewidth\":0,\"ticks\":\"\"}}}],\"bar\":[{\"error_x\":{\"color\":\"#2a3f5f\"},\"error_y\":{\"color\":\"#2a3f5f\"},\"marker\":{\"line\":{\"color\":\"#E5ECF6\",\"width\":0.5},\"pattern\":{\"fillmode\":\"overlay\",\"size\":10,\"solidity\":0.2}},\"type\":\"bar\"}],\"scattergeo\":[{\"type\":\"scattergeo\",\"marker\":{\"colorbar\":{\"outlinewidth\":0,\"ticks\":\"\"}}}],\"scatterpolar\":[{\"type\":\"scatterpolar\",\"marker\":{\"colorbar\":{\"outlinewidth\":0,\"ticks\":\"\"}}}],\"histogram\":[{\"marker\":{\"pattern\":{\"fillmode\":\"overlay\",\"size\":10,\"solidity\":0.2}},\"type\":\"histogram\"}],\"scattergl\":[{\"type\":\"scattergl\",\"marker\":{\"colorbar\":{\"outlinewidth\":0,\"ticks\":\"\"}}}],\"scatter3d\":[{\"type\":\"scatter3d\",\"line\":{\"colorbar\":{\"outlinewidth\":0,\"ticks\":\"\"}},\"marker\":{\"colorbar\":{\"outlinewidth\":0,\"ticks\":\"\"}}}],\"scattermapbox\":[{\"type\":\"scattermapbox\",\"marker\":{\"colorbar\":{\"outlinewidth\":0,\"ticks\":\"\"}}}],\"scatterternary\":[{\"type\":\"scatterternary\",\"marker\":{\"colorbar\":{\"outlinewidth\":0,\"ticks\":\"\"}}}],\"scattercarpet\":[{\"type\":\"scattercarpet\",\"marker\":{\"colorbar\":{\"outlinewidth\":0,\"ticks\":\"\"}}}],\"carpet\":[{\"aaxis\":{\"endlinecolor\":\"#2a3f5f\",\"gridcolor\":\"white\",\"linecolor\":\"white\",\"minorgridcolor\":\"white\",\"startlinecolor\":\"#2a3f5f\"},\"baxis\":{\"endlinecolor\":\"#2a3f5f\",\"gridcolor\":\"white\",\"linecolor\":\"white\",\"minorgridcolor\":\"white\",\"startlinecolor\":\"#2a3f5f\"},\"type\":\"carpet\"}],\"table\":[{\"cells\":{\"fill\":{\"color\":\"#EBF0F8\"},\"line\":{\"color\":\"white\"}},\"header\":{\"fill\":{\"color\":\"#C8D4E3\"},\"line\":{\"color\":\"white\"}},\"type\":\"table\"}],\"barpolar\":[{\"marker\":{\"line\":{\"color\":\"#E5ECF6\",\"width\":0.5},\"pattern\":{\"fillmode\":\"overlay\",\"size\":10,\"solidity\":0.2}},\"type\":\"barpolar\"}],\"pie\":[{\"automargin\":true,\"type\":\"pie\"}]},\"layout\":{\"autotypenumbers\":\"strict\",\"colorway\":[\"#636efa\",\"#EF553B\",\"#00cc96\",\"#ab63fa\",\"#FFA15A\",\"#19d3f3\",\"#FF6692\",\"#B6E880\",\"#FF97FF\",\"#FECB52\"],\"font\":{\"color\":\"#2a3f5f\"},\"hovermode\":\"closest\",\"hoverlabel\":{\"align\":\"left\"},\"paper_bgcolor\":\"white\",\"plot_bgcolor\":\"#E5ECF6\",\"polar\":{\"bgcolor\":\"#E5ECF6\",\"angularaxis\":{\"gridcolor\":\"white\",\"linecolor\":\"white\",\"ticks\":\"\"},\"radialaxis\":{\"gridcolor\":\"white\",\"linecolor\":\"white\",\"ticks\":\"\"}},\"ternary\":{\"bgcolor\":\"#E5ECF6\",\"aaxis\":{\"gridcolor\":\"white\",\"linecolor\":\"white\",\"ticks\":\"\"},\"baxis\":{\"gridcolor\":\"white\",\"linecolor\":\"white\",\"ticks\":\"\"},\"caxis\":{\"gridcolor\":\"white\",\"linecolor\":\"white\",\"ticks\":\"\"}},\"coloraxis\":{\"colorbar\":{\"outlinewidth\":0,\"ticks\":\"\"}},\"colorscale\":{\"sequential\":[[0.0,\"#0d0887\"],[0.1111111111111111,\"#46039f\"],[0.2222222222222222,\"#7201a8\"],[0.3333333333333333,\"#9c179e\"],[0.4444444444444444,\"#bd3786\"],[0.5555555555555556,\"#d8576b\"],[0.6666666666666666,\"#ed7953\"],[0.7777777777777778,\"#fb9f3a\"],[0.8888888888888888,\"#fdca26\"],[1.0,\"#f0f921\"]],\"sequentialminus\":[[0.0,\"#0d0887\"],[0.1111111111111111,\"#46039f\"],[0.2222222222222222,\"#7201a8\"],[0.3333333333333333,\"#9c179e\"],[0.4444444444444444,\"#bd3786\"],[0.5555555555555556,\"#d8576b\"],[0.6666666666666666,\"#ed7953\"],[0.7777777777777778,\"#fb9f3a\"],[0.8888888888888888,\"#fdca26\"],[1.0,\"#f0f921\"]],\"diverging\":[[0,\"#8e0152\"],[0.1,\"#c51b7d\"],[0.2,\"#de77ae\"],[0.3,\"#f1b6da\"],[0.4,\"#fde0ef\"],[0.5,\"#f7f7f7\"],[0.6,\"#e6f5d0\"],[0.7,\"#b8e186\"],[0.8,\"#7fbc41\"],[0.9,\"#4d9221\"],[1,\"#276419\"]]},\"xaxis\":{\"gridcolor\":\"white\",\"linecolor\":\"white\",\"ticks\":\"\",\"title\":{\"standoff\":15},\"zerolinecolor\":\"white\",\"automargin\":true,\"zerolinewidth\":2},\"yaxis\":{\"gridcolor\":\"white\",\"linecolor\":\"white\",\"ticks\":\"\",\"title\":{\"standoff\":15},\"zerolinecolor\":\"white\",\"automargin\":true,\"zerolinewidth\":2},\"scene\":{\"xaxis\":{\"backgroundcolor\":\"#E5ECF6\",\"gridcolor\":\"white\",\"linecolor\":\"white\",\"showbackground\":true,\"ticks\":\"\",\"zerolinecolor\":\"white\",\"gridwidth\":2},\"yaxis\":{\"backgroundcolor\":\"#E5ECF6\",\"gridcolor\":\"white\",\"linecolor\":\"white\",\"showbackground\":true,\"ticks\":\"\",\"zerolinecolor\":\"white\",\"gridwidth\":2},\"zaxis\":{\"backgroundcolor\":\"#E5ECF6\",\"gridcolor\":\"white\",\"linecolor\":\"white\",\"showbackground\":true,\"ticks\":\"\",\"zerolinecolor\":\"white\",\"gridwidth\":2}},\"shapedefaults\":{\"line\":{\"color\":\"#2a3f5f\"}},\"annotationdefaults\":{\"arrowcolor\":\"#2a3f5f\",\"arrowhead\":0,\"arrowwidth\":1},\"geo\":{\"bgcolor\":\"white\",\"landcolor\":\"#E5ECF6\",\"subunitcolor\":\"white\",\"showland\":true,\"showlakes\":true,\"lakecolor\":\"white\"},\"title\":{\"x\":0.05},\"mapbox\":{\"style\":\"light\"}}},\"xaxis\":{\"anchor\":\"y\",\"domain\":[0.0,1.0],\"title\":{\"text\":\"Energia w kWh\"}},\"yaxis\":{\"anchor\":\"x\",\"domain\":[0.0,1.0],\"title\":{\"text\":\"Urz\\u0105dzenie\"}},\"legend\":{\"tracegroupgap\":0},\"title\":{\"text\":\"Zu\\u017cycie energi w [kWh]\"},\"barmode\":\"relative\"},                        {\"responsive\": true}                    ).then(function(){\n",
       "                            \n",
       "var gd = document.getElementById('04ec2f13-efc8-4f78-b805-dbde750efdca');\n",
       "var x = new MutationObserver(function (mutations, observer) {{\n",
       "        var display = window.getComputedStyle(gd).display;\n",
       "        if (!display || display === 'none') {{\n",
       "            console.log([gd, 'removed!']);\n",
       "            Plotly.purge(gd);\n",
       "            observer.disconnect();\n",
       "        }}\n",
       "}});\n",
       "\n",
       "// Listen for the removal of the full notebook cells\n",
       "var notebookContainer = gd.closest('#notebook-container');\n",
       "if (notebookContainer) {{\n",
       "    x.observe(notebookContainer, {childList: true});\n",
       "}}\n",
       "\n",
       "// Listen for the clearing of the current output cell\n",
       "var outputEl = gd.closest('.output');\n",
       "if (outputEl) {{\n",
       "    x.observe(outputEl, {childList: true});\n",
       "}}\n",
       "\n",
       "                        })                };                });            </script>        </div>"
      ]
     },
     "metadata": {},
     "output_type": "display_data"
    }
   ],
   "source": [
    "barplot(100, True)"
   ]
  },
  {
   "cell_type": "code",
   "execution_count": null,
   "metadata": {},
   "outputs": [],
   "source": []
  }
 ],
 "metadata": {
  "kernelspec": {
   "display_name": "Python 3 (ipykernel)",
   "language": "python",
   "name": "python3"
  },
  "language_info": {
   "codemirror_mode": {
    "name": "ipython",
    "version": 3
   },
   "file_extension": ".py",
   "mimetype": "text/x-python",
   "name": "python",
   "nbconvert_exporter": "python",
   "pygments_lexer": "ipython3",
   "version": "3.10.8"
  },
  "vscode": {
   "interpreter": {
    "hash": "af8587adde808d311b6b27f5a61a591af98ea29ead15ceed18658036a9ac5198"
   }
  }
 },
 "nbformat": 4,
 "nbformat_minor": 4
}
