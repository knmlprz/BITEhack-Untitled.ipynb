{
 "cells": [
  {
   "cell_type": "code",
   "execution_count": 63,
   "metadata": {},
   "outputs": [],
   "source": [
    "import pandas as pd\n",
    "import matplotlib.pyplot as plt\n",
    "import seaborn as sns\n",
    "import numpy as np\n",
    "import xgboost as xg\n",
    "from sklearn.ensemble import RandomForestRegressor\n",
    "from sklearn.model_selection import train_test_split\n",
    "from sklearn.metrics import mean_absolute_error, mean_absolute_percentage_error\n",
    "import pywt\n",
    "import tqdm"
   ]
  },
  {
   "cell_type": "code",
   "execution_count": 3,
   "metadata": {},
   "outputs": [
    {
     "name": "stderr",
     "output_type": "stream",
     "text": [
      "/tmp/ipykernel_3008105/1205812310.py:1: DtypeWarning: Columns (70) have mixed types. Specify dtype option on import or set low_memory=False.\n",
      "  df = pd.read_csv(\"../household_data_1min_singleindex.csv\", parse_dates=[\"utc_timestamp\"])\n"
     ]
    }
   ],
   "source": [
    "df = pd.read_csv(\"../household_data_1min_singleindex.csv\", parse_dates=[\"utc_timestamp\"])"
   ]
  },
  {
   "cell_type": "code",
   "execution_count": 4,
   "metadata": {},
   "outputs": [],
   "source": [
    "columns = [col for col in df.columns.tolist() if \"DE_KN_residential4\" in col]"
   ]
  },
  {
   "cell_type": "code",
   "execution_count": 5,
   "metadata": {},
   "outputs": [
    {
     "data": {
      "text/plain": [
       "['DE_KN_residential4_dishwasher',\n",
       " 'DE_KN_residential4_ev',\n",
       " 'DE_KN_residential4_freezer',\n",
       " 'DE_KN_residential4_grid_export',\n",
       " 'DE_KN_residential4_grid_import',\n",
       " 'DE_KN_residential4_heat_pump',\n",
       " 'DE_KN_residential4_pv',\n",
       " 'DE_KN_residential4_refrigerator',\n",
       " 'DE_KN_residential4_washing_machine']"
      ]
     },
     "execution_count": 5,
     "metadata": {},
     "output_type": "execute_result"
    }
   ],
   "source": [
    "columns"
   ]
  },
  {
   "cell_type": "code",
   "execution_count": 6,
   "metadata": {},
   "outputs": [
    {
     "data": {
      "text/plain": [
       "18"
      ]
     },
     "execution_count": 6,
     "metadata": {},
     "output_type": "execute_result"
    }
   ],
   "source": [
    "len(\"DE_KN_residential1\")"
   ]
  },
  {
   "cell_type": "code",
   "execution_count": 25,
   "metadata": {},
   "outputs": [
    {
     "name": "stderr",
     "output_type": "stream",
     "text": [
      "/tmp/ipykernel_3008105/83181512.py:4: UserWarning: Converting to PeriodArray/Index representation will drop timezone information.\n",
      "  .to_period()\n"
     ]
    }
   ],
   "source": [
    "df_clean = (df[columns + [\"utc_timestamp\"]]\n",
    "    .set_index(\"utc_timestamp\")\n",
    "    .sort_index()\n",
    "    .to_period()\n",
    "    .ffill()\n",
    "    .dropna(how=\"all\")\n",
    "    .fillna(0)\n",
    "    .diff(1)\n",
    "    .dropna()\n",
    "    .assign(\n",
    "        energy_generated=lambda x: x[['DE_KN_residential4_pv', 'DE_KN_residential4_grid_import']].sum(axis=1)\n",
    "    )\n",
    ").iloc[:40_000]"
   ]
  },
  {
   "cell_type": "code",
   "execution_count": 26,
   "metadata": {},
   "outputs": [
    {
     "data": {
      "text/plain": [
       "utc_timestamp\n",
       "2015-10-10 16:36    0.000\n",
       "2015-10-10 16:37    0.000\n",
       "2015-10-10 16:38    0.000\n",
       "2015-10-10 16:39    0.002\n",
       "2015-10-10 16:40    0.003\n",
       "                    ...  \n",
       "2015-11-07 11:11    0.000\n",
       "2015-11-07 11:12    0.000\n",
       "2015-11-07 11:13    0.000\n",
       "2015-11-07 11:14    0.000\n",
       "2015-11-07 11:15    0.000\n",
       "Freq: T, Name: DE_KN_residential4_heat_pump, Length: 40000, dtype: float64"
      ]
     },
     "execution_count": 26,
     "metadata": {},
     "output_type": "execute_result"
    }
   ],
   "source": [
    "df_clean[\"DE_KN_residential4_heat_pump\"]"
   ]
  },
  {
   "cell_type": "code",
   "execution_count": 27,
   "metadata": {},
   "outputs": [],
   "source": [
    "from itertools import islice\n",
    "\n",
    "def window(seq, n=2):\n",
    "    \"Returns a sliding window (of width n) over data from the iterable\"\n",
    "    \"   s -> (s0,s1,...s[n-1]), (s1,s2,...,sn), ...                   \"\n",
    "    it = iter(seq)\n",
    "    result = tuple(islice(it, n))\n",
    "    if len(result) == n:\n",
    "        yield result\n",
    "    for elem in it:\n",
    "        result = result[1:] + (elem,)\n",
    "        yield result"
   ]
  },
  {
   "cell_type": "code",
   "execution_count": 45,
   "metadata": {},
   "outputs": [],
   "source": [
    "def calculate_wavelet_features(data, level):\n",
    "    \"\"\"Calculate wavelet features based on [1].\n",
    "    Args:\n",
    "        data\n",
    "            Data. Will be padded to 2**level.\n",
    "    Returns:\n",
    "        4 vectors of shape: (level+1, ), these vectors are:\n",
    "        - `p_k` (Relative wavelet energy vector),\n",
    "        - `u_k` (Absolute mean of detail coefficients),\n",
    "        - `sigma_k` (Std. deviation of detail coefficients),\n",
    "        - `S_k` (Shannon entropy)\n",
    "    \"\"\"\n",
    "    data = np.pad(data, (0, 2**level - len(data)))\n",
    "    d = np.array(pywt.swt(data, \"haar\", level=level, trim_approx=True)).T\n",
    "\n",
    "    E_k = np.sum(np.power(np.abs(d), 2), axis=0)\n",
    "    E_total = np.sum(E_k, axis=0)\n",
    "\n",
    "    # Relarive wavelet energy\n",
    "    p_k = E_k / (E_total + 1e-7)  \n",
    "    p_n = np.power(d, 2) / (E_k + 1e-7)\n",
    "    # Shannon entropy\n",
    "    S_k = -np.sum(p_n * np.log(p_n + 1e-7), axis=0)  \n",
    "    # Absolute mean of coefficients\n",
    "    u_k = np.mean(np.abs(d), axis=0)\n",
    "    # Std. deviation of coeficcients\n",
    "    sigma_k = np.std(d, axis=0)\n",
    "    return (\n",
    "        p_k,\n",
    "        u_k,\n",
    "        sigma_k,\n",
    "        S_k,\n",
    "    )"
   ]
  },
  {
   "cell_type": "code",
   "execution_count": 77,
   "metadata": {},
   "outputs": [
    {
     "data": {
      "text/plain": [
       "2048"
      ]
     },
     "execution_count": 77,
     "metadata": {},
     "output_type": "execute_result"
    }
   ],
   "source": [
    "2**11"
   ]
  },
  {
   "cell_type": "code",
   "execution_count": 78,
   "metadata": {},
   "outputs": [],
   "source": [
    "WINDOW_SIZE = 2048"
   ]
  },
  {
   "cell_type": "code",
   "execution_count": 79,
   "metadata": {},
   "outputs": [],
   "source": [
    "X = pd.DataFrame(np.array(list(window(df_clean[\"energy_generated\"].tolist(), WINDOW_SIZE))))"
   ]
  },
  {
   "cell_type": "code",
   "execution_count": 80,
   "metadata": {},
   "outputs": [
    {
     "name": "stderr",
     "output_type": "stream",
     "text": [
      "100%|██████████████████████████████████| 37953/37953 [01:45<00:00, 359.71it/s]\n"
     ]
    }
   ],
   "source": [
    "X_new = []\n",
    "for i in tqdm.tqdm(range(len(X))):\n",
    "    X_new.append(np.hstack(calculate_wavelet_features(X.iloc[0].values, level=11)))"
   ]
  },
  {
   "cell_type": "code",
   "execution_count": 81,
   "metadata": {},
   "outputs": [],
   "source": [
    "X = pd.DataFrame(X_new)"
   ]
  },
  {
   "cell_type": "code",
   "execution_count": 82,
   "metadata": {},
   "outputs": [],
   "source": [
    "X[\"hour\"] = df_clean.index.hour[WINDOW_SIZE-1:]\n",
    "X[\"minute\"] = df_clean.index.minute[WINDOW_SIZE-1:]\n",
    "X.columns = X.columns.astype(str)"
   ]
  },
  {
   "cell_type": "code",
   "execution_count": 83,
   "metadata": {},
   "outputs": [],
   "source": [
    "y = np.array(df_clean[\"DE_KN_residential4_dishwasher\"])[WINDOW_SIZE-1:]"
   ]
  },
  {
   "cell_type": "code",
   "execution_count": 84,
   "metadata": {},
   "outputs": [],
   "source": [
    "# Tego nie powinno używać się do szeregów czasowych\n",
    "# Sktime ma lepszy odpowiednik\n",
    "X_train, X_test, y_train, y_test = train_test_split(X, y, test_size=0.33, random_state=42)"
   ]
  },
  {
   "cell_type": "code",
   "execution_count": 85,
   "metadata": {},
   "outputs": [],
   "source": [
    "#model = xg.XGBRegressor(objective ='reg:squarederror', n_estimators = 10, seed = 123)\n",
    "model = RandomForestRegressor()"
   ]
  },
  {
   "cell_type": "code",
   "execution_count": 86,
   "metadata": {},
   "outputs": [
    {
     "data": {
      "text/html": [
       "<style>#sk-container-id-4 {color: black;background-color: white;}#sk-container-id-4 pre{padding: 0;}#sk-container-id-4 div.sk-toggleable {background-color: white;}#sk-container-id-4 label.sk-toggleable__label {cursor: pointer;display: block;width: 100%;margin-bottom: 0;padding: 0.3em;box-sizing: border-box;text-align: center;}#sk-container-id-4 label.sk-toggleable__label-arrow:before {content: \"▸\";float: left;margin-right: 0.25em;color: #696969;}#sk-container-id-4 label.sk-toggleable__label-arrow:hover:before {color: black;}#sk-container-id-4 div.sk-estimator:hover label.sk-toggleable__label-arrow:before {color: black;}#sk-container-id-4 div.sk-toggleable__content {max-height: 0;max-width: 0;overflow: hidden;text-align: left;background-color: #f0f8ff;}#sk-container-id-4 div.sk-toggleable__content pre {margin: 0.2em;color: black;border-radius: 0.25em;background-color: #f0f8ff;}#sk-container-id-4 input.sk-toggleable__control:checked~div.sk-toggleable__content {max-height: 200px;max-width: 100%;overflow: auto;}#sk-container-id-4 input.sk-toggleable__control:checked~label.sk-toggleable__label-arrow:before {content: \"▾\";}#sk-container-id-4 div.sk-estimator input.sk-toggleable__control:checked~label.sk-toggleable__label {background-color: #d4ebff;}#sk-container-id-4 div.sk-label input.sk-toggleable__control:checked~label.sk-toggleable__label {background-color: #d4ebff;}#sk-container-id-4 input.sk-hidden--visually {border: 0;clip: rect(1px 1px 1px 1px);clip: rect(1px, 1px, 1px, 1px);height: 1px;margin: -1px;overflow: hidden;padding: 0;position: absolute;width: 1px;}#sk-container-id-4 div.sk-estimator {font-family: monospace;background-color: #f0f8ff;border: 1px dotted black;border-radius: 0.25em;box-sizing: border-box;margin-bottom: 0.5em;}#sk-container-id-4 div.sk-estimator:hover {background-color: #d4ebff;}#sk-container-id-4 div.sk-parallel-item::after {content: \"\";width: 100%;border-bottom: 1px solid gray;flex-grow: 1;}#sk-container-id-4 div.sk-label:hover label.sk-toggleable__label {background-color: #d4ebff;}#sk-container-id-4 div.sk-serial::before {content: \"\";position: absolute;border-left: 1px solid gray;box-sizing: border-box;top: 0;bottom: 0;left: 50%;z-index: 0;}#sk-container-id-4 div.sk-serial {display: flex;flex-direction: column;align-items: center;background-color: white;padding-right: 0.2em;padding-left: 0.2em;position: relative;}#sk-container-id-4 div.sk-item {position: relative;z-index: 1;}#sk-container-id-4 div.sk-parallel {display: flex;align-items: stretch;justify-content: center;background-color: white;position: relative;}#sk-container-id-4 div.sk-item::before, #sk-container-id-4 div.sk-parallel-item::before {content: \"\";position: absolute;border-left: 1px solid gray;box-sizing: border-box;top: 0;bottom: 0;left: 50%;z-index: -1;}#sk-container-id-4 div.sk-parallel-item {display: flex;flex-direction: column;z-index: 1;position: relative;background-color: white;}#sk-container-id-4 div.sk-parallel-item:first-child::after {align-self: flex-end;width: 50%;}#sk-container-id-4 div.sk-parallel-item:last-child::after {align-self: flex-start;width: 50%;}#sk-container-id-4 div.sk-parallel-item:only-child::after {width: 0;}#sk-container-id-4 div.sk-dashed-wrapped {border: 1px dashed gray;margin: 0 0.4em 0.5em 0.4em;box-sizing: border-box;padding-bottom: 0.4em;background-color: white;}#sk-container-id-4 div.sk-label label {font-family: monospace;font-weight: bold;display: inline-block;line-height: 1.2em;}#sk-container-id-4 div.sk-label-container {text-align: center;}#sk-container-id-4 div.sk-container {/* jupyter's `normalize.less` sets `[hidden] { display: none; }` but bootstrap.min.css set `[hidden] { display: none !important; }` so we also need the `!important` here to be able to override the default hidden behavior on the sphinx rendered scikit-learn.org. See: https://github.com/scikit-learn/scikit-learn/issues/21755 */display: inline-block !important;position: relative;}#sk-container-id-4 div.sk-text-repr-fallback {display: none;}</style><div id=\"sk-container-id-4\" class=\"sk-top-container\"><div class=\"sk-text-repr-fallback\"><pre>RandomForestRegressor()</pre><b>In a Jupyter environment, please rerun this cell to show the HTML representation or trust the notebook. <br />On GitHub, the HTML representation is unable to render, please try loading this page with nbviewer.org.</b></div><div class=\"sk-container\" hidden><div class=\"sk-item\"><div class=\"sk-estimator sk-toggleable\"><input class=\"sk-toggleable__control sk-hidden--visually\" id=\"sk-estimator-id-4\" type=\"checkbox\" checked><label for=\"sk-estimator-id-4\" class=\"sk-toggleable__label sk-toggleable__label-arrow\">RandomForestRegressor</label><div class=\"sk-toggleable__content\"><pre>RandomForestRegressor()</pre></div></div></div></div></div>"
      ],
      "text/plain": [
       "RandomForestRegressor()"
      ]
     },
     "execution_count": 86,
     "metadata": {},
     "output_type": "execute_result"
    }
   ],
   "source": [
    "model.fit(X_train, y_train)"
   ]
  },
  {
   "cell_type": "code",
   "execution_count": 87,
   "metadata": {},
   "outputs": [],
   "source": [
    "y_pred = model.predict(X_test)"
   ]
  },
  {
   "cell_type": "code",
   "execution_count": 88,
   "metadata": {},
   "outputs": [],
   "source": [
    "mask = ~np.isclose(y_test, np.zeros_like(y_test))"
   ]
  },
  {
   "cell_type": "code",
   "execution_count": 89,
   "metadata": {},
   "outputs": [
    {
     "data": {
      "text/plain": [
       "0.9809370635813881"
      ]
     },
     "execution_count": 89,
     "metadata": {},
     "output_type": "execute_result"
    }
   ],
   "source": [
    "mean_absolute_percentage_error(y_test[mask], y_pred[mask])"
   ]
  },
  {
   "cell_type": "code",
   "execution_count": 94,
   "metadata": {},
   "outputs": [
    {
     "data": {
      "text/plain": [
       "[<matplotlib.lines.Line2D at 0x7fc7fde886d0>]"
      ]
     },
     "execution_count": 94,
     "metadata": {},
     "output_type": "execute_result"
    },
    {
     "data": {
      "image/png": "[encoded data removed]",
      "text/plain": [
       "<Figure size 640x480 with 1 Axes>"
      ]
     },
     "metadata": {},
     "output_type": "display_data"
    }
   ],
   "source": [
    "plt.plot(y_train[ :100])\n",
    "plt.plot(y_pred[:100], alpha=0.5)"
   ]
  },
  {
   "cell_type": "code",
   "execution_count": 91,
   "metadata": {},
   "outputs": [
    {
     "data": {
      "text/plain": [
       "(array([233., 102.,  78.,  41.,  34.,  16.,   0.,   1.,   1.,   3.,   6.,\n",
       "          3.,   0.,  11.,   1.,   5.,   1.,   3.,   0.,   4.,   5.,   6.,\n",
       "          9.,   2.,   1.,   4.,   4.,   3.,   1.,   2.,   2.,   0.,   1.,\n",
       "          7.,   6.,   2.,   6.,   0.,   9.,   8.,  10.,   9.,   5.,   0.,\n",
       "          4.,   5.,   3.,   0.,   0.,   0.,   1.,   0.,   1.,   0.,   3.,\n",
       "          4.,   0.,   1.,   0.,   1.,   2.,   1.,   0.,   2.,   0.,   0.,\n",
       "          1.,   1.,   0.,   2.,   2.,   1.,   0.,   1.,   0.,   0.,   2.,\n",
       "          3.,   1.,   1.,   4.,   0.,   0.,   3.,   2.,   0.,   2.,   0.,\n",
       "          0.,   0.,   0.,   0.,   0.,   0.,   0.,   0.,   0.,   0.,   0.,\n",
       "          1.]),\n",
       " array([0.001  , 0.00184, 0.00268, 0.00352, 0.00436, 0.0052 , 0.00604,\n",
       "        0.00688, 0.00772, 0.00856, 0.0094 , 0.01024, 0.01108, 0.01192,\n",
       "        0.01276, 0.0136 , 0.01444, 0.01528, 0.01612, 0.01696, 0.0178 ,\n",
       "        0.01864, 0.01948, 0.02032, 0.02116, 0.022  , 0.02284, 0.02368,\n",
       "        0.02452, 0.02536, 0.0262 , 0.02704, 0.02788, 0.02872, 0.02956,\n",
       "        0.0304 , 0.03124, 0.03208, 0.03292, 0.03376, 0.0346 , 0.03544,\n",
       "        0.03628, 0.03712, 0.03796, 0.0388 , 0.03964, 0.04048, 0.04132,\n",
       "        0.04216, 0.043  , 0.04384, 0.04468, 0.04552, 0.04636, 0.0472 ,\n",
       "        0.04804, 0.04888, 0.04972, 0.05056, 0.0514 , 0.05224, 0.05308,\n",
       "        0.05392, 0.05476, 0.0556 , 0.05644, 0.05728, 0.05812, 0.05896,\n",
       "        0.0598 , 0.06064, 0.06148, 0.06232, 0.06316, 0.064  , 0.06484,\n",
       "        0.06568, 0.06652, 0.06736, 0.0682 , 0.06904, 0.06988, 0.07072,\n",
       "        0.07156, 0.0724 , 0.07324, 0.07408, 0.07492, 0.07576, 0.0766 ,\n",
       "        0.07744, 0.07828, 0.07912, 0.07996, 0.0808 , 0.08164, 0.08248,\n",
       "        0.08332, 0.08416, 0.085  ]),\n",
       " <BarContainer object of 100 artists>)"
      ]
     },
     "execution_count": 91,
     "metadata": {},
     "output_type": "execute_result"
    },
    {
     "data": {
      "image/png": "[encoded data removed]",
      "text/plain": [
       "<Figure size 640x480 with 1 Axes>"
      ]
     },
     "metadata": {},
     "output_type": "display_data"
    }
   ],
   "source": [
    "plt.hist(y[y>0], bins=100)"
   ]
  },
  {
   "cell_type": "code",
   "execution_count": 92,
   "metadata": {},
   "outputs": [
    {
     "data": {
      "text/plain": [
       "(array([1016.,  444.,  242.,   85.,   87.,   49.,   35.,   32.,   31.,\n",
       "          38.,   23.,   36.,   48.,   25.,   40.,   82.,   31.,   67.,\n",
       "          35.,   67.,   36.,   19.,   39.,   21.,   36.,   17.,   31.,\n",
       "          16.,   33.,    0.,    6.,   12.,    0.,    0.,   26.,    0.,\n",
       "          10.,    0.,   18.,   20.,    9.,    0.,    8.,   28.,    0.,\n",
       "           9.,    0.,    0.,   21.,   14.,    0.,    0.,    0.,    0.,\n",
       "           0.,    0.,   15.,    0.,    0.,    0.,    0.,    0.,    0.,\n",
       "           0.,    0.,    0.,    0.,    0.,    0.,    0.,    0.,    0.,\n",
       "           0.,    0.,    0.,    0.,    0.,    0.,    0.,    0.,    0.,\n",
       "           0.,    0.,    0.,    0.,    0.,    0.,    0.,    0.,    0.,\n",
       "           0.,    0.,    0.,    0.,    0.,    0.,    0.,    0.,    0.,\n",
       "           9.]),\n",
       " array([3.68229455e-05, 1.36943727e-04, 2.37064508e-04, 3.37185289e-04,\n",
       "        4.37306071e-04, 5.37426852e-04, 6.37547633e-04, 7.37668415e-04,\n",
       "        8.37789196e-04, 9.37909977e-04, 1.03803076e-03, 1.13815154e-03,\n",
       "        1.23827232e-03, 1.33839310e-03, 1.43851388e-03, 1.53863466e-03,\n",
       "        1.63875545e-03, 1.73887623e-03, 1.83899701e-03, 1.93911779e-03,\n",
       "        2.03923857e-03, 2.13935935e-03, 2.23948013e-03, 2.33960092e-03,\n",
       "        2.43972170e-03, 2.53984248e-03, 2.63996326e-03, 2.74008404e-03,\n",
       "        2.84020482e-03, 2.94032560e-03, 3.04044638e-03, 3.14056717e-03,\n",
       "        3.24068795e-03, 3.34080873e-03, 3.44092951e-03, 3.54105029e-03,\n",
       "        3.64117107e-03, 3.74129185e-03, 3.84141263e-03, 3.94153342e-03,\n",
       "        4.04165420e-03, 4.14177498e-03, 4.24189576e-03, 4.34201654e-03,\n",
       "        4.44213732e-03, 4.54225810e-03, 4.64237888e-03, 4.74249967e-03,\n",
       "        4.84262045e-03, 4.94274123e-03, 5.04286201e-03, 5.14298279e-03,\n",
       "        5.24310357e-03, 5.34322435e-03, 5.44334513e-03, 5.54346592e-03,\n",
       "        5.64358670e-03, 5.74370748e-03, 5.84382826e-03, 5.94394904e-03,\n",
       "        6.04406982e-03, 6.14419060e-03, 6.24431139e-03, 6.34443217e-03,\n",
       "        6.44455295e-03, 6.54467373e-03, 6.64479451e-03, 6.74491529e-03,\n",
       "        6.84503607e-03, 6.94515685e-03, 7.04527764e-03, 7.14539842e-03,\n",
       "        7.24551920e-03, 7.34563998e-03, 7.44576076e-03, 7.54588154e-03,\n",
       "        7.64600232e-03, 7.74612310e-03, 7.84624389e-03, 7.94636467e-03,\n",
       "        8.04648545e-03, 8.14660623e-03, 8.24672701e-03, 8.34684779e-03,\n",
       "        8.44696857e-03, 8.54708935e-03, 8.64721014e-03, 8.74733092e-03,\n",
       "        8.84745170e-03, 8.94757248e-03, 9.04769326e-03, 9.14781404e-03,\n",
       "        9.24793482e-03, 9.34805561e-03, 9.44817639e-03, 9.54829717e-03,\n",
       "        9.64841795e-03, 9.74853873e-03, 9.84865951e-03, 9.94878029e-03,\n",
       "        1.00489011e-02]),\n",
       " <BarContainer object of 100 artists>)"
      ]
     },
     "execution_count": 92,
     "metadata": {},
     "output_type": "execute_result"
    },
    {
     "data": {
      "image/png": "[encoded data removed]",
      "text/plain": [
       "<Figure size 640x480 with 1 Axes>"
      ]
     },
     "metadata": {},
     "output_type": "display_data"
    }
   ],
   "source": [
    "plt.hist(y_pred[y_pred>0], bins=100)"
   ]
  },
  {
   "cell_type": "code",
   "execution_count": null,
   "metadata": {},
   "outputs": [],
   "source": []
  }
 ],
 "metadata": {
  "kernelspec": {
   "display_name": "Python 3 (ipykernel)",
   "language": "python",
   "name": "python3"
  },
  "language_info": {
   "codemirror_mode": {
    "name": "ipython",
    "version": 3
   },
   "file_extension": ".py",
   "mimetype": "text/x-python",
   "name": "python",
   "nbconvert_exporter": "python",
   "pygments_lexer": "ipython3",
   "version": "3.10.8"
  },
  "vscode": {
   "interpreter": {
    "hash": "02f088ac25d74c8e344e02f4f183047b77885382151fe3fa9935b35e3d97e2db"
   }
  }
 },
 "nbformat": 4,
 "nbformat_minor": 4
}
